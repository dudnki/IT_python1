{
  "nbformat": 4,
  "nbformat_minor": 0,
  "metadata": {
    "colab": {
      "name": "Baekjoon8_10.ipynb",
      "provenance": [],
      "collapsed_sections": []
    },
    "kernelspec": {
      "name": "python3",
      "display_name": "Python 3"
    },
    "language_info": {
      "name": "python"
    }
  },
  "cells": [
    {
      "cell_type": "markdown",
      "source": [
        "8-1\n",
        "\n",
        "월드전자는 노트북을 제조하고 판매하는 회사이다. 노트북 판매 대수에 상관없이 매년 임대료, 재산세, 보험료, 급여 등 A만원의 고정 비용이 들며, 한 대의 노트북을 생산하는 데에는 재료비와 인건비 등 총 B만원의 가변 비용이 든다고 한다.\n",
        "\n",
        "예를 들어 A=1,000, B=70이라고 하자. 이 경우 노트북을 한 대 생산하는 데는 총 1,070만원이 들며, 열 대 생산하는 데는 총 1,700만원이 든다.\n",
        "\n",
        "노트북 가격이 C만원으로 책정되었다고 한다. 일반적으로 생산 대수를 늘려 가다 보면 어느 순간 총 수입(판매비용)이 총 비용(=고정비용+가변비용)보다 많아지게 된다. 최초로 총 수입이 총 비용보다 많아져 이익이 발생하는 지점을 손익분기점(BREAK-EVEN POINT)이라고 한다.\n",
        "\n",
        "A, B, C가 주어졌을 때, 손익분기점을 구하는 프로그램을 작성하시오."
      ],
      "metadata": {
        "id": "78HztWuFdpmn"
      }
    },
    {
      "cell_type": "code",
      "execution_count": 10,
      "metadata": {
        "colab": {
          "base_uri": "https://localhost:8080/"
        },
        "id": "n_Na3df-Yz0D",
        "outputId": "f7a7b6e6-2cd3-45e6-cd82-dd046b03d726"
      },
      "outputs": [
        {
          "output_type": "stream",
          "name": "stdout",
          "text": [
            "210000000 9 10\n",
            "210000001\n"
          ]
        }
      ],
      "source": [
        "a, b, c = map(int,input().split())\n",
        "if c <= b:\n",
        "    print(-1)\n",
        "else :\n",
        "    n = a/(c-b) + 1\n",
        "    print(int(n))\n"
      ]
    },
    {
      "cell_type": "markdown",
      "source": [
        "8-2\n",
        "\n",
        "위의 그림과 같이 육각형으로 이루어진 벌집이 있다. 그림에서 보는 바와 같이 중앙의 방 1부터 시작해서 이웃하는 방에 돌아가면서 1씩 증가하는 번호를 주소로 매길 수 있다. 숫자 N이 주어졌을 때, 벌집의 중앙 1에서 N번 방까지 최소 개수의 방을 지나서 갈 때 몇 개의 방을 지나가는지(시작과 끝을 포함하여)를 계산하는 프로그램을 작성하시오. 예를 들면, 13까지는 3개, 58까지는 5개를 지난다."
      ],
      "metadata": {
        "id": "4T_dwAhfdobn"
      }
    },
    {
      "cell_type": "code",
      "source": [
        "n = int(input())\n",
        "re = 1\n",
        "p = 1\n",
        "while True:\n",
        "    if re >= n:\n",
        "        print(p)\n",
        "        break\n",
        "    re += 6*p\n",
        "    p +=1\n"
      ],
      "metadata": {
        "colab": {
          "base_uri": "https://localhost:8080/"
        },
        "id": "fvoaNx4VZHWn",
        "outputId": "e09dc10c-b84d-4f66-99b9-ef633cbd0249"
      },
      "execution_count": 16,
      "outputs": [
        {
          "output_type": "stream",
          "name": "stdout",
          "text": [
            "41\n",
            "5\n"
          ]
        }
      ]
    },
    {
      "cell_type": "markdown",
      "source": [
        "8-3\n",
        "\n",
        "무한히 큰 배열에 다음과 같이 분수들이 적혀있다.\n",
        "\n",
        "1/1\t1/2\t1/3\t1/4\t1/5\t…\n",
        "2/1\t2/2\t2/3\t2/4\t…\t…\n",
        "3/1\t3/2\t3/3\t…\t…\t…\n",
        "4/1\t4/2\t…\t…\t…\t…\n",
        "5/1\t…\t…\t…\t…\t…\n",
        "…\t…\t…\t…\t…\t…\n",
        "이와 같이 나열된 분수들을 1/1 → 1/2 → 2/1 → 3/1 → 2/2 → … 과 같은 지그재그 순서로 차례대로 1번, 2번, 3번, 4번, 5번, … 분수라고 하자.\n",
        "\n",
        "X가 주어졌을 때, X번째 분수를 구하는 프로그램을 작성하시오."
      ],
      "metadata": {
        "id": "iL_h9x6OlH-j"
      }
    },
    {
      "cell_type": "code",
      "source": [
        "n = int(input())\n",
        "l = 0\n",
        "m_n = 0\n",
        "while n > m_n:\n",
        "    l +=1\n",
        "    m_n +=l\n",
        "    \n",
        "gap = m_n - n\n",
        "if l % 2 == 0:  \n",
        "    top = l - gap  \n",
        "    under = gap + 1  \n",
        "else :  \n",
        "    top = gap + 1 \n",
        "    under = l - gap  \n",
        "print(f\"{top}/{under}\")\n"
      ],
      "metadata": {
        "colab": {
          "base_uri": "https://localhost:8080/"
        },
        "id": "1b8e7gF_eNjm",
        "outputId": "d83622dd-91ee-40ee-b5e5-f42b5bfab3e7"
      },
      "execution_count": 25,
      "outputs": [
        {
          "output_type": "stream",
          "name": "stdout",
          "text": [
            "4\n",
            "3/1\n"
          ]
        }
      ]
    },
    {
      "cell_type": "markdown",
      "source": [
        "8 - 4\n",
        "\n",
        "땅 위에 달팽이가 있다. 이 달팽이는 높이가 V미터인 나무 막대를 올라갈 것이다.\n",
        "\n",
        "달팽이는 낮에 A미터 올라갈 수 있다. 하지만, 밤에 잠을 자는 동안 B미터 미끄러진다. 또, 정상에 올라간 후에는 미끄러지지 않는다.\n",
        "\n",
        "달팽이가 나무 막대를 모두 올라가려면, 며칠이 걸리는지 구하는 프로그램을 작성하시오."
      ],
      "metadata": {
        "id": "YVWm25ARWuvY"
      }
    },
    {
      "cell_type": "code",
      "source": [
        "a,b,v = map(int,input().split())\n",
        "k = (v-b)/(a-b)\n",
        "print(int(k) if k == int(k) else int(k)+1)"
      ],
      "metadata": {
        "id": "q5JQdhCslMuZ"
      },
      "execution_count": null,
      "outputs": []
    },
    {
      "cell_type": "markdown",
      "source": [
        "8 - 5\n",
        "\n",
        "ACM 호텔 매니저 지우는 손님이 도착하는 대로 빈 방을 배정하고 있다. 고객 설문조사에 따르면 손님들은 호텔 정문으로부터 걸어서 가장 짧은 거리에 있는 방을 선호한다고 한다. 여러분은 지우를 도와 줄 프로그램을 작성하고자 한다. 즉 설문조사 결과 대로 호텔 정문으로부터 걷는 거리가 가장 짧도록 방을 배정하는 프로그램을 작성하고자 한다.\n",
        "\n",
        "문제를 단순화하기 위해서 호텔은 직사각형 모양이라고 가정하자. 각 층에 W 개의 방이 있는 H 층 건물이라고 가정하자 (1 ≤ H, W ≤ 99). 그리고 엘리베이터는 가장 왼쪽에 있다고 가정하자(그림 1 참고). 이런 형태의 호텔을 H × W 형태 호텔이라고 부른다. 호텔 정문은 일층 엘리베이터 바로 앞에 있는데, 정문에서 엘리베이터까지의 거리는 무시한다. 또 모든 인접한 두 방 사이의 거리는 같은 거리(거리 1)라고 가정하고 호텔의 정면 쪽에만 방이 있다고 가정한다."
      ],
      "metadata": {
        "id": "WNhZPuwoXMjX"
      }
    },
    {
      "cell_type": "code",
      "source": [
        "t = int(input())\n",
        "\n",
        "for i in range(t):\n",
        "    h, w, n = map(int, input().split())\n",
        "    num = n//h + 1\n",
        "    floor = n % h\n",
        "    if n % h == 0:  # h의 배수이면,\n",
        "        num = n//h\n",
        "        floor = h\n",
        "    print(f'{floor*100+num}')"
      ],
      "metadata": {
        "id": "klKu7SvFXM_D"
      },
      "execution_count": null,
      "outputs": []
    },
    {
      "cell_type": "markdown",
      "source": [
        "8 -6\n",
        "\n",
        "평소 반상회에 참석하는 것을 좋아하는 주희는 이번 기회에 부녀회장이 되고 싶어 각 층의 사람들을 불러 모아 반상회를 주최하려고 한다.\n",
        "\n",
        "이 아파트에 거주를 하려면 조건이 있는데, “a층의 b호에 살려면 자신의 아래(a-1)층의 1호부터 b호까지 사람들의 수의 합만큼 사람들을 데려와 살아야 한다” 는 계약 조항을 꼭 지키고 들어와야 한다.\n",
        "\n",
        "아파트에 비어있는 집은 없고 모든 거주민들이 이 계약 조건을 지키고 왔다고 가정했을 때, 주어지는 양의 정수 k와 n에 대해 k층에 n호에는 몇 명이 살고 있는지 출력하라. 단, 아파트에는 0층부터 있고 각층에는 1호부터 있으며, 0층의 i호에는 i명이 산다."
      ],
      "metadata": {
        "id": "TLvZZilXX-n9"
      }
    },
    {
      "cell_type": "code",
      "source": [
        "t = int(input())\n",
        "\n",
        "for _ in range(t):  \n",
        "    floor = int(input())  # 층\n",
        "    num = int(input())  # 호\n",
        "    f0 = [x for x in range(1, num+1)]  # 0층 리스트\n",
        "    for k in range(floor):  # 층 수 만큼 반복\n",
        "        for i in range(1, num):  # 1 ~ n-1까지 (인덱스로 사용)\n",
        "            f0[i] += f0[i-1]  # 층별 각 호실의 사람 수를 변경\n",
        "    print(f0[-1])  # 가장 마지막 수 출력"
      ],
      "metadata": {
        "id": "97x0zcydYFMc"
      },
      "execution_count": null,
      "outputs": []
    },
    {
      "cell_type": "markdown",
      "source": [
        "8 - 7\n",
        "\n",
        "상근이는 요즘 설탕공장에서 설탕을 배달하고 있다. 상근이는 지금 사탕가게에 설탕을 정확하게 N킬로그램을 배달해야 한다. 설탕공장에서 만드는 설탕은 봉지에 담겨져 있다. 봉지는 3킬로그램 봉지와 5킬로그램 봉지가 있다.\n",
        "\n",
        "상근이는 귀찮기 때문에, 최대한 적은 봉지를 들고 가려고 한다. 예를 들어, 18킬로그램 설탕을 배달해야 할 때, 3킬로그램 봉지 6개를 가져가도 되지만, 5킬로그램 3개와 3킬로그램 1개를 배달하면, 더 적은 개수의 봉지를 배달할 수 있다.\n",
        "\n",
        "상근이가 설탕을 정확하게 N킬로그램 배달해야 할 때, 봉지 몇 개를 가져가면 되는지 그 수를 구하는 프로그램을 작성하시오."
      ],
      "metadata": {
        "id": "q__NFv23YTEN"
      }
    },
    {
      "cell_type": "code",
      "source": [
        "sugar = int(input())\n",
        "\n",
        "bag = 0\n",
        "while sugar >= 0 :\n",
        "    if sugar % 5 == 0 :  # 5의 배수이면\n",
        "        bag += (sugar // 5)  # 5로 나눈 몫을 구해야 정수가 됨\n",
        "        print(bag)\n",
        "        break\n",
        "    sugar -= 3  \n",
        "    bag += 1  # 5의 배수가 될 때까지 설탕-3, 봉지+1\n",
        "else :\n",
        "    print(-1)"
      ],
      "metadata": {
        "id": "eHsn5TbKYaFQ"
      },
      "execution_count": null,
      "outputs": []
    },
    {
      "cell_type": "markdown",
      "source": [
        "8 - 8\n",
        "\n",
        "두 정수 A와 B를 입력받은 다음, A+B를 출력하는 프로그램을 작성하시오."
      ],
      "metadata": {
        "id": "Q1fFIbqJYy9T"
      }
    },
    {
      "cell_type": "code",
      "source": [
        "a, b = list(map(int, input().split()))\n",
        "print(a+b)"
      ],
      "metadata": {
        "id": "f5AQ3H58Y6EW"
      },
      "execution_count": null,
      "outputs": []
    },
    {
      "cell_type": "markdown",
      "source": [
        "8 - 9\n",
        "\n",
        "우현이는 어린 시절, 지구 외의 다른 행성에서도 인류들이 살아갈 수 있는 미래가 오리라 믿었다. 그리고 그가 지구라는 세상에 발을 내려 놓은 지 23년이 지난 지금, 세계 최연소 ASNA 우주 비행사가 되어 새로운 세계에 발을 내려 놓는 영광의 순간을 기다리고 있다.\n",
        "\n",
        "그가 탑승하게 될 우주선은 Alpha Centauri라는 새로운 인류의 보금자리를 개척하기 위한 대규모 생활 유지 시스템을 탑재하고 있기 때문에, 그 크기와 질량이 엄청난 이유로 최신기술력을 총 동원하여 개발한 공간이동 장치를 탑재하였다. 하지만 이 공간이동 장치는 이동 거리를 급격하게 늘릴 경우 기계에 심각한 결함이 발생하는 단점이 있어서, 이전 작동시기에 k광년을 이동하였을 때는 k-1 , k 혹은 k+1 광년만을 다시 이동할 수 있다. 예를 들어, 이 장치를 처음 작동시킬 경우 -1 , 0 , 1 광년을 이론상 이동할 수 있으나 사실상 음수 혹은 0 거리만큼의 이동은 의미가 없으므로 1 광년을 이동할 수 있으며, 그 다음에는 0 , 1 , 2 광년을 이동할 수 있는 것이다. ( 여기서 다시 2광년을 이동한다면 다음 시기엔 1, 2, 3 광년을 이동할 수 있다. )\n",
        "\n",
        "\n",
        "김우현은 공간이동 장치 작동시의 에너지 소모가 크다는 점을 잘 알고 있기 때문에 x지점에서 y지점을 향해 최소한의 작동 횟수로 이동하려 한다. 하지만 y지점에 도착해서도 공간 이동장치의 안전성을 위하여 y지점에 도착하기 바로 직전의 이동거리는 반드시 1광년으로 하려 한다.\n",
        "\n",
        "김우현을 위해 x지점부터 정확히 y지점으로 이동하는데 필요한 공간 이동 장치 작동 횟수의 최솟값을 구하는 프로그램을 작성하라."
      ],
      "metadata": {
        "id": "FaT1D5G3ZWXL"
      }
    },
    {
      "cell_type": "code",
      "source": [
        "t = int(input())\n",
        "\n",
        "for _ in range(t):\n",
        "    x, y = map(int,input().split())\n",
        "    distance = y - x\n",
        "    count = 0  # 이동 횟수\n",
        "    move = 1  # count별 이동 가능한 거리\n",
        "    move_plus = 0  # 이동한 거리의 합\n",
        "    while move_plus < distance :\n",
        "        count += 1\n",
        "        move_plus += move  # count 수에 해당하는 move를 더함\n",
        "        if count % 2 == 0 :  # count가 2의 배수일 때, \n",
        "            move += 1  \n",
        "    print(count)"
      ],
      "metadata": {
        "id": "ci8Lh8n_Ztux"
      },
      "execution_count": null,
      "outputs": []
    },
    {
      "cell_type": "markdown",
      "source": [
        "9 - 1\n",
        "\n",
        "주어진 수 N개 중에서 소수가 몇 개인지 찾아서 출력하는 프로그램을 작성하시오."
      ],
      "metadata": {
        "id": "_Ne2VKyfZ1_X"
      }
    },
    {
      "cell_type": "code",
      "source": [
        "n = int(input())\n",
        "numbers = map(int, input().split())\n",
        "sosu = 0\n",
        "for num in numbers:\n",
        "    error = 0\n",
        "    if num > 1 :\n",
        "        for i in range(2, num):  # 2부터 n-1까지\n",
        "            if num % i == 0:\n",
        "                error += 1  # 2부터 n-1까지 나눈 몫이 0이면 error가 증가\n",
        "        if error == 0:\n",
        "            sosu += 1  # error가 없으면 소수.\n",
        "print(sosu)"
      ],
      "metadata": {
        "id": "VjoLZTHMZ2gw"
      },
      "execution_count": null,
      "outputs": []
    },
    {
      "cell_type": "markdown",
      "source": [
        "9 - 2\n",
        "\n",
        "자연수 M과 N이 주어질 때 M이상 N이하의 자연수 중 소수인 것을 모두 골라 이들 소수의 합과 최솟값을 찾는 프로그램을 작성하시오.\n",
        "\n",
        "예를 들어 M=60, N=100인 경우 60이상 100이하의 자연수 중 소수는 61, 67, 71, 73, 79, 83, 89, 97 총 8개가 있으므로, 이들 소수의 합은 620이고, 최솟값은 61이 된다."
      ],
      "metadata": {
        "id": "_r2YS-VNaN-u"
      }
    },
    {
      "cell_type": "code",
      "source": [
        "start_num = int(input())\n",
        "last_num = int(input())\n",
        "\n",
        "sosu_list = []\n",
        "for num in range(start_num, last_num+1):\n",
        "    error = 0\n",
        "    if num > 1 :\n",
        "        for i in range(2, num):  # 2부터 num-1까지\n",
        "            if num % i == 0:\n",
        "                error += 1\n",
        "                break  # 2부터 num-1까지 나눈 몫이 0이면 error가 증가하고 for문을 끝냄\n",
        "        if error == 0:\n",
        "            sosu_list.append(num)  # error가 없으면 소수리스트에 추가\n",
        "            \n",
        "if len(sosu_list) > 0 :\n",
        "    print(sum(sosu_list))\n",
        "    print(min(sosu_list))\n",
        "else:\n",
        "    print(-1)"
      ],
      "metadata": {
        "id": "SNrnthXtaZml"
      },
      "execution_count": null,
      "outputs": []
    },
    {
      "cell_type": "markdown",
      "source": [
        "9 - 3\n",
        "\n",
        "정수 N이 주어졌을 때, 소인수분해하는 프로그램을 작성하시오."
      ],
      "metadata": {
        "id": "6rHaMt4MatWn"
      }
    },
    {
      "cell_type": "code",
      "source": [
        "n = int(input())\n",
        "\n",
        "if n == 1:\n",
        "    print('')\n",
        "\n",
        "# 2부터 하나씩 나눠보기\n",
        "for i in range(2, n+1):\n",
        "    if n % i == 0:\n",
        "    \t#해당 숫자로 나눌 수 없을 때까지 나누기\n",
        "        while n % i == 0:\n",
        "            print(i)\n",
        "            n = n / i"
      ],
      "metadata": {
        "id": "541ISzTda4ys"
      },
      "execution_count": null,
      "outputs": []
    },
    {
      "cell_type": "markdown",
      "source": [
        "9 -4\n",
        "\n",
        "M이상 N이하의 소수를 모두 출력하는 프로그램을 작성하시오.\n"
      ],
      "metadata": {
        "id": "PfOFMJr_bPM4"
      }
    },
    {
      "cell_type": "code",
      "source": [
        "def isPrime(num):\n",
        "    if num==1:\n",
        "        return False\n",
        "    else:\n",
        "        for i in range(2, int(num**0.5)+1):\n",
        "            if num%i == 0:\n",
        "                return False\n",
        "        return True\n",
        "\n",
        "M, N = map(int, input().split())\n",
        "\n",
        "for i in range(M, N+1):\n",
        "    if isPrime(i):\n",
        "        print(i)"
      ],
      "metadata": {
        "id": "zwvdOltYbUGK"
      },
      "execution_count": null,
      "outputs": []
    },
    {
      "cell_type": "markdown",
      "source": [
        "9 - 5\n",
        "\n",
        "베르트랑 공준은 임의의 자연수 n에 대하여, n보다 크고, 2n보다 작거나 같은 소수는 적어도 하나 존재한다는 내용을 담고 있다.\n",
        "\n",
        "이 명제는 조제프 베르트랑이 1845년에 추측했고, 파프누티 체비쇼프가 1850년에 증명했다.\n",
        "\n",
        "예를 들어, 10보다 크고, 20보다 작거나 같은 소수는 4개가 있다. (11, 13, 17, 19) 또, 14보다 크고, 28보다 작거나 같은 소수는 3개가 있다. (17,19, 23)\n",
        "\n",
        "자연수 n이 주어졌을 때, n보다 크고, 2n보다 작거나 같은 소수의 개수를 구하는 프로그램을 작성하시오. "
      ],
      "metadata": {
        "id": "uN0BXY_-bdyn"
      }
    },
    {
      "cell_type": "code",
      "source": [
        "N = 123456 * 2 + 1\n",
        "sieve = [True] * N\n",
        "for i in range(2, int(N**0.5)+1):\n",
        "    if sieve[i]:\n",
        "        for j in range(2*i, N, i):\n",
        "            sieve[j] = False\n",
        "\n",
        "def prime_cnt(val):\n",
        "    cnt = 0\n",
        "    for i in range(val + 1, val * 2 + 1):\n",
        "        if sieve[i]:\n",
        "            cnt += 1\n",
        "    print(cnt)\n",
        "\n",
        "while True:\n",
        "    val = int(input())\n",
        "    if val == 0:\n",
        "        break\n",
        "    prime_cnt(val)"
      ],
      "metadata": {
        "id": "8boCGgnobr15"
      },
      "execution_count": null,
      "outputs": []
    },
    {
      "cell_type": "markdown",
      "source": [
        "9 - 6\n",
        "\n",
        "1보다 큰 자연수 중에서  1과 자기 자신을 제외한 약수가 없는 자연수를 소수라고 한다. 예를 들어, 5는 1과 5를 제외한 약수가 없기 때문에 소수이다. 하지만, 6은 6 = 2 × 3 이기 때문에 소수가 아니다.\n",
        "\n",
        "골드바흐의 추측은 유명한 정수론의 미해결 문제로, 2보다 큰 모든 짝수는 두 소수의 합으로 나타낼 수 있다는 것이다. 이러한 수를 골드바흐 수라고 한다. 또, 짝수를 두 소수의 합으로 나타내는 표현을 그 수의 골드바흐 파티션이라고 한다. 예를 들면, 4 = 2 + 2, 6 = 3 + 3, 8 = 3 + 5, 10 = 5 + 5, 12 = 5 + 7, 14 = 3 + 11, 14 = 7 + 7이다. 10000보다 작거나 같은 모든 짝수 n에 대한 골드바흐 파티션은 존재한다.\n",
        "\n",
        "2보다 큰 짝수 n이 주어졌을 때, n의 골드바흐 파티션을 출력하는 프로그램을 작성하시오. 만약 가능한 n의 골드바흐 파티션이 여러 가지인 경우에는 두 소수의 차이가 가장 작은 것을 출력한다."
      ],
      "metadata": {
        "id": "ztXBrUn7b8L_"
      }
    },
    {
      "cell_type": "code",
      "source": [
        "sosu = [0 for i in range(10001)]\n",
        "sosu[1] = 1\n",
        "for i in range(2, 98):\n",
        "    for j in range(i * 2, 10001, i):\n",
        "        sosu[j] = 1\n",
        "t = int(input())\n",
        "for i in range(t):\n",
        "    a = int(input())\n",
        "    b = a // 2\n",
        "    for j in range(b, 1, -1):\n",
        "        if sosu[a - j] == 0 and sosu[j] == 0:\n",
        "            print(j, a - j)\n",
        "            break"
      ],
      "metadata": {
        "id": "ZfoQgRs7cCxz"
      },
      "execution_count": null,
      "outputs": []
    },
    {
      "cell_type": "markdown",
      "source": [
        "9 - 8\n",
        "\n",
        "한수는 지금 (x, y)에 있다. 직사각형은 각 변이 좌표축에 평행하고, 왼쪽 아래 꼭짓점은 (0, 0), 오른쪽 위 꼭짓점은 (w, h)에 있다. 직사각형의 경계선까지 가는 거리의 최솟값을 구하는 프로그램을 작성하시오."
      ],
      "metadata": {
        "id": "8DKG1YzhcRnM"
      }
    },
    {
      "cell_type": "code",
      "source": [
        "x, y, w, h = map(int, input().split())\n",
        "print(min(x, y, w-x, h-y))"
      ],
      "metadata": {
        "id": "BWgGu0J8cYjC"
      },
      "execution_count": null,
      "outputs": []
    },
    {
      "cell_type": "markdown",
      "source": [
        "9-9 \n",
        "\n",
        "과거 이집트인들은 각 변들의 길이가 3, 4, 5인 삼각형이 직각 삼각형인것을 알아냈다. 주어진 세변의 길이로 삼각형이 직각인지 아닌지 구분하시오."
      ],
      "metadata": {
        "id": "YUM4cbko94a9"
      }
    },
    {
      "cell_type": "code",
      "source": [
        "while True:\n",
        "    n = list(map(int, input().split()))\n",
        "    max_num = max(n)\n",
        "    if sum(n) == 0:\n",
        "        break\n",
        "    n.remove(max_num)\n",
        "    if n[0]**2 + n[1]**2 == max_num**2:\n",
        "        print(\"right\")\n",
        "    else:\n",
        "        print(\"wrong\")"
      ],
      "metadata": {
        "colab": {
          "base_uri": "https://localhost:8080/",
          "height": 281
        },
        "id": "v-GqfM4Z-E3p",
        "outputId": "06323eb9-f6f7-4580-c1c5-2110a7215718"
      },
      "execution_count": 11,
      "outputs": [
        {
          "output_type": "stream",
          "name": "stdout",
          "text": [
            "3 4 5\n",
            "[3, 4, 5]\n"
          ]
        },
        {
          "output_type": "error",
          "ename": "TypeError",
          "evalue": "ignored",
          "traceback": [
            "\u001b[0;31m---------------------------------------------------------------------------\u001b[0m",
            "\u001b[0;31mTypeError\u001b[0m                                 Traceback (most recent call last)",
            "\u001b[0;32m<ipython-input-11-8bf90982d768>\u001b[0m in \u001b[0;36m<module>\u001b[0;34m()\u001b[0m\n\u001b[1;32m      3\u001b[0m     \u001b[0mn\u001b[0m \u001b[0;34m=\u001b[0m \u001b[0mlist\u001b[0m\u001b[0;34m(\u001b[0m\u001b[0mmap\u001b[0m\u001b[0;34m(\u001b[0m\u001b[0mint\u001b[0m\u001b[0;34m,\u001b[0m \u001b[0minput\u001b[0m\u001b[0;34m(\u001b[0m\u001b[0;34m)\u001b[0m\u001b[0;34m.\u001b[0m\u001b[0msplit\u001b[0m\u001b[0;34m(\u001b[0m\u001b[0;34m)\u001b[0m\u001b[0;34m)\u001b[0m\u001b[0;34m)\u001b[0m\u001b[0;34m\u001b[0m\u001b[0;34m\u001b[0m\u001b[0m\n\u001b[1;32m      4\u001b[0m     \u001b[0mprint\u001b[0m\u001b[0;34m(\u001b[0m\u001b[0mn\u001b[0m\u001b[0;34m)\u001b[0m\u001b[0;34m\u001b[0m\u001b[0;34m\u001b[0m\u001b[0m\n\u001b[0;32m----> 5\u001b[0;31m     \u001b[0mmax_num\u001b[0m \u001b[0;34m=\u001b[0m \u001b[0mmax\u001b[0m\u001b[0;34m(\u001b[0m\u001b[0mn\u001b[0m\u001b[0;34m)\u001b[0m\u001b[0;34m\u001b[0m\u001b[0;34m\u001b[0m\u001b[0m\n\u001b[0m\u001b[1;32m      6\u001b[0m     \u001b[0;32mif\u001b[0m \u001b[0msum\u001b[0m\u001b[0;34m(\u001b[0m\u001b[0mn\u001b[0m\u001b[0;34m)\u001b[0m \u001b[0;34m==\u001b[0m \u001b[0;36m0\u001b[0m\u001b[0;34m:\u001b[0m\u001b[0;34m\u001b[0m\u001b[0;34m\u001b[0m\u001b[0m\n\u001b[1;32m      7\u001b[0m         \u001b[0;32mbreak\u001b[0m\u001b[0;34m\u001b[0m\u001b[0;34m\u001b[0m\u001b[0m\n",
            "\u001b[0;31mTypeError\u001b[0m: 'int' object is not callable"
          ]
        }
      ]
    },
    {
      "cell_type": "markdown",
      "source": [
        "9 - 10\n",
        "\n",
        "19세기 독일 수학자 헤르만 민코프스키는 비유클리드 기하학 중 택시 기하학을 고안했다.\n",
        "\n",
        "택시 기하학에서 두 점 T1(x1,y1), T2(x2,y2) 사이의 거리는 다음과 같이 구할 수 있다.\n",
        "\n",
        "D(T1,T2) = |x1-x2| + |y1-y2|\n",
        "\n",
        "두 점 사이의 거리를 제외한 나머지 정의는 유클리드 기하학에서의 정의와 같다.\n",
        "\n",
        "따라서 택시 기하학에서 원의 정의는 유클리드 기하학에서 원의 정의와 같다.\n",
        "\n",
        "원: 평면 상의 어떤 점에서 거리가 일정한 점들의 집합\n",
        "\n",
        "반지름 R이 주어졌을 때, 유클리드 기하학에서 원의 넓이와, 택시 기하학에서 원의 넓이를 구하는 프로그램을 작성하시오."
      ],
      "metadata": {
        "id": "spqks5W8FQ1f"
      }
    },
    {
      "cell_type": "code",
      "source": [
        "n = int(input())\n",
        "print(f'{round(n**2*3.14159265358979323,6)}')\n",
        "print('%.6f'% (2*n**2))"
      ],
      "metadata": {
        "colab": {
          "base_uri": "https://localhost:8080/"
        },
        "id": "E-BMum5fAEbO",
        "outputId": "3e976254-78d8-4c01-b266-ba1effeda6e3"
      },
      "execution_count": 20,
      "outputs": [
        {
          "output_type": "stream",
          "name": "stdout",
          "text": [
            "21\n",
            "1385.44236\n",
            "882.000000\n"
          ]
        }
      ]
    },
    {
      "cell_type": "markdown",
      "source": [
        "9-11\n",
        "\n",
        "조규현과 백승환은 터렛에 근무하는 직원이다. 하지만 워낙 존재감이 없어서 인구수는 차지하지 않는다.\n",
        "\n",
        "이석원은 조규현과 백승환에게 상대편 마린(류재명)의 위치를 계산하라는 명령을 내렸다. 조규현과 백승환은 각각 자신의 터렛 위치에서 현재 적까지의 거리를 계산했다.\n",
        "\n",
        "조규현의 좌표 (x1, y1)와 백승환의 좌표 (x2, y2)가 주어지고, 조규현이 계산한 류재명과의 거리 r1과 백승환이 계산한 류재명과의 거리 r2가 주어졌을 때, 류재명이 있을 수 있는 좌표의 수를 출력하는 프로그램을 작성하시오."
      ],
      "metadata": {
        "id": "jd05VmyAJQri"
      }
    },
    {
      "cell_type": "code",
      "source": [
        ""
      ],
      "metadata": {
        "id": "k5-8UWslEiSJ"
      },
      "execution_count": null,
      "outputs": []
    },
    {
      "cell_type": "markdown",
      "source": [
        "10 - 1\n",
        "\n",
        "0보다 크거나 같은 정수 N이 주어진다. 이때, N!을 출력하는 프로그램을 작성하시오."
      ],
      "metadata": {
        "id": "I4-a3QX5Oeck"
      }
    },
    {
      "cell_type": "code",
      "source": [
        "def factorial(n):\n",
        "    if n == 0:\n",
        "        return 1\n",
        "    return n*factorial(n-1)\n",
        "n = int(input())\n",
        "print(factorial(n))"
      ],
      "metadata": {
        "colab": {
          "base_uri": "https://localhost:8080/"
        },
        "id": "IyH-1TyROmt9",
        "outputId": "0949b435-847a-48e4-f2f0-491ea4ff5c27"
      },
      "execution_count": 23,
      "outputs": [
        {
          "output_type": "stream",
          "name": "stdout",
          "text": [
            "10\n",
            "3628800\n"
          ]
        }
      ]
    },
    {
      "cell_type": "markdown",
      "source": [
        "10 - 2\n",
        "\n",
        "피보나치 수는 0과 1로 시작한다. 0번째 피보나치 수는 0이고, 1번째 피보나치 수는 1이다. 그 다음 2번째 부터는 바로 앞 두 피보나치 수의 합이 된다.\n",
        "\n",
        "이를 식으로 써보면 Fn = Fn-1 + Fn-2 (n ≥ 2)가 된다.\n",
        "\n",
        "n=17일때 까지 피보나치 수를 써보면 다음과 같다.\n",
        "\n",
        "0, 1, 1, 2, 3, 5, 8, 13, 21, 34, 55, 89, 144, 233, 377, 610, 987, 1597\n",
        "\n",
        "n이 주어졌을 때, n번째 피보나치 수를 구하는 프로그램을 작성하시오."
      ],
      "metadata": {
        "id": "JTv_ePoXPlN6"
      }
    },
    {
      "cell_type": "code",
      "source": [
        "n = int(input())\n",
        "\n",
        "fibonacci = [0, 1]\n",
        "for i in range(2, n+1):\n",
        "    num = fibonacci[i-1] + fibonacci[i-2]\n",
        "    fibonacci.append(num)\n",
        "print(fibonacci[n])"
      ],
      "metadata": {
        "id": "dbMKrMOjPD3d"
      },
      "execution_count": null,
      "outputs": []
    },
    {
      "cell_type": "markdown",
      "source": [
        "10 - 3\n",
        "\n",
        "재귀적인 패턴으로 별을 찍어 보자. N이 3의 거듭제곱(3, 9, 27, ...)이라고 할 때, 크기 N의 패턴은 N×N 정사각형 모양이다.\n",
        "\n",
        "크기 3의 패턴은 가운데에 공백이 있고, 가운데를 제외한 모든 칸에 별이 하나씩 있는 패턴이다.\n",
        "\n",
        "***\n",
        "* *\n",
        "***\n",
        "N이 3보다 클 경우, 크기 N의 패턴은 공백으로 채워진 가운데의 (N/3)×(N/3) 정사각형을 크기 N/3의 패턴으로 둘러싼 형태이다. 예를 들어 크기 27의 패턴은 예제 출력 1과 같다."
      ],
      "metadata": {
        "id": "0EsAmJooVvZq"
      }
    },
    {
      "cell_type": "code",
      "source": [
        ""
      ],
      "metadata": {
        "id": "BqZJNUK2V74x"
      },
      "execution_count": null,
      "outputs": []
    },
    {
      "cell_type": "markdown",
      "source": [
        "10 - 4\n",
        "\n",
        "세 개의 장대가 있고 첫 번째 장대에는 반경이 서로 다른 n개의 원판이 쌓여 있다. 각 원판은 반경이 큰 순서대로 쌓여있다. 이제 수도승들이 다음 규칙에 따라 첫 번째 장대에서 세 번째 장대로 옮기려 한다.\n",
        "\n",
        "한 번에 한 개의 원판만을 다른 탑으로 옮길 수 있다.\n",
        "쌓아 놓은 원판은 항상 위의 것이 아래의 것보다 작아야 한다.\n",
        "이 작업을 수행하는데 필요한 이동 순서를 출력하는 프로그램을 작성하라. 단, 이동 횟수는 최소가 되어야 한다.\n",
        "\n",
        "아래 그림은 원판이 5개인 경우의 예시이다."
      ],
      "metadata": {
        "id": "qex30bvFWQ64"
      }
    },
    {
      "cell_type": "code",
      "source": [
        "n = int(input())\n",
        "def hanoi(n, a, b, c):\n",
        "    if n == 1:\n",
        "        print(a, c)\n",
        "    else:\n",
        "        hanoi(n - 1, a, c, b)\n",
        "        print(a, c)\n",
        "        hanoi(n - 1, b, a, c)\n",
        "sum = 1\n",
        "for i in range(n - 1):\n",
        "    sum = sum * 2 + 1\n",
        "print(sum)\n",
        "hanoi(n, 1, 2, 3)"
      ],
      "metadata": {
        "id": "p4oRC87QWYRf"
      },
      "execution_count": null,
      "outputs": []
    }
  ]
}