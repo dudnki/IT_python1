{
  "nbformat": 4,
  "nbformat_minor": 0,
  "metadata": {
    "colab": {
      "name": "BaekJoon 1,2 .ipynb",
      "provenance": []
    },
    "kernelspec": {
      "name": "python3",
      "display_name": "Python 3"
    },
    "language_info": {
      "name": "python"
    }
  },
  "cells": [
    {
      "cell_type": "code",
      "metadata": {
        "id": "_8I1QBMy7SQB"
      },
      "source": [
        "#1000\n",
        "a , b=  map(int,input().split())\n",
        "print(a + b)"
      ],
      "execution_count": null,
      "outputs": []
    },
    {
      "cell_type": "code",
      "metadata": {
        "id": "zxOKwCfpf9tX"
      },
      "source": [
        ""
      ],
      "execution_count": null,
      "outputs": []
    },
    {
      "cell_type": "code",
      "metadata": {
        "id": "rDsYDpkQ7Upz"
      },
      "source": [
        "#1001\n",
        "a , b=  map(int,input().split())\n",
        "print(a - b)"
      ],
      "execution_count": null,
      "outputs": []
    },
    {
      "cell_type": "code",
      "metadata": {
        "id": "iyQpgORp7eWi"
      },
      "source": [
        "#1008\n",
        "a , b=  map(int,input().split())\n",
        "print(a/b)"
      ],
      "execution_count": null,
      "outputs": []
    },
    {
      "cell_type": "code",
      "metadata": {
        "id": "3Nfqzxk87ng2"
      },
      "source": [
        "#\t1330\n",
        "A, B = map(int,input().split())\n",
        "if A > B:\n",
        "    print(\">\")\n",
        "elif A < B:\n",
        "    print(\"<\")\n",
        "else:\n",
        "    print(\"==\")"
      ],
      "execution_count": null,
      "outputs": []
    },
    {
      "cell_type": "code",
      "metadata": {
        "id": "p0uM4gy87tid"
      },
      "source": [
        "#2557\n",
        "print(\"Hello World!\")"
      ],
      "execution_count": null,
      "outputs": []
    },
    {
      "cell_type": "code",
      "metadata": {
        "id": "QRHG1O8e7z2z"
      },
      "source": [
        "#10869\n",
        "num1 = int(input())\n",
        "num2 = int(input())\n",
        "\n",
        "print(num1 * (num2%10))\n",
        "print(num1 * ((num2%100)//10))\n",
        "print(num1 * (num2//100))\n",
        "print(num1 * num2)\n"
      ],
      "execution_count": null,
      "outputs": []
    },
    {
      "cell_type": "code",
      "metadata": {
        "id": "BAWn0wkx7271"
      },
      "source": [
        "#10171\n",
        "print(\"\\\\    /\\\\\")\n",
        "print(\" )  ( ')\")\n",
        "print(\"(  /  )\")\n",
        "print(\" \\\\(__)|\")"
      ],
      "execution_count": null,
      "outputs": []
    },
    {
      "cell_type": "code",
      "metadata": {
        "id": "T7eoxVrSfKQ0"
      },
      "source": [
        "#10172\n",
        "print(\"|\\_/|\")\n",
        "print(\"|q p|   /}\")\n",
        "print('( 0 )\"\"\"\\\\')  \n",
        "print('|\"^\"`    |')\n",
        "print(\"||_/=\\\\\\__|\")"
      ],
      "execution_count": null,
      "outputs": []
    },
    {
      "cell_type": "code",
      "metadata": {
        "id": "auzh74BKfZoV"
      },
      "source": [
        "#10718\n",
        "print(\"강한친구 대한육군\")\n",
        "print(\"강한친구 대한육군\")"
      ],
      "execution_count": null,
      "outputs": []
    },
    {
      "cell_type": "code",
      "metadata": {
        "id": "I1lcOsqagHAg"
      },
      "source": [
        "#2588\n",
        "num1 = int(input())\n",
        "num2 = int(input())\n",
        "\n",
        "print(num1 * (num2%10))\n",
        "print(num1 * ((num2%100)//10))\n",
        "print(num1 * (num2//100))\n",
        "print(num1 * num2)"
      ],
      "execution_count": null,
      "outputs": []
    },
    {
      "cell_type": "code",
      "metadata": {
        "id": "UqcuEmgDgT5k"
      },
      "source": [
        "#10430\n",
        "A, B, C = map(int,input().split())\n",
        "print((A+B)%C)\n",
        "print(((A%C) + (B%C))%C)\n",
        "print((A*B)%C)\n",
        "print(((A%C) * (B%C))%C)"
      ],
      "execution_count": null,
      "outputs": []
    },
    {
      "cell_type": "code",
      "metadata": {
        "id": "bvXJNC6vgqvI"
      },
      "source": [
        "#10998\n",
        "a , b=  map(int,input().split())\n",
        "print(a * b)"
      ],
      "execution_count": null,
      "outputs": []
    },
    {
      "cell_type": "code",
      "metadata": {
        "id": "u3jyhcl6hAbt"
      },
      "source": [
        "#9498\n",
        "score = int(input())\n",
        "if 90 <= score <=100:\n",
        "    print(\"A\")\n",
        "elif 80 <= score < 90 :\n",
        "    print(\"B\")\n",
        "elif 70 <= score <=79:\n",
        "    print(\"C\")\n",
        "elif 60 <= score <=69:\n",
        "    print(\"D\")\n",
        "else:\n",
        "    print(\"F\")"
      ],
      "execution_count": null,
      "outputs": []
    },
    {
      "cell_type": "code",
      "metadata": {
        "id": "SMD0cvSYhI53"
      },
      "source": [
        "#2753\n",
        "n = int(input())\n",
        "if (n%4 == 0 and n%100 != 0) or (n%400 == 0):\n",
        "    print(1)\n",
        "else:\n",
        "    print(0)"
      ],
      "execution_count": null,
      "outputs": []
    },
    {
      "cell_type": "code",
      "metadata": {
        "id": "PXg1-nvGhQxt"
      },
      "source": [
        "#14681\n",
        "a = int(input())\n",
        "b = int(input())\n",
        "if a>0 and b>0:\n",
        "    print(1)\n",
        "elif a>0 and b<0:\n",
        "    print(4)\n",
        "elif a<0 and b>0:\n",
        "    print(2)\n",
        "else:\n",
        "    print(3)"
      ],
      "execution_count": null,
      "outputs": []
    },
    {
      "cell_type": "code",
      "metadata": {
        "id": "iFx2F9jPhYcD"
      },
      "source": [
        "#2884\n",
        "a,b = map(int,input().split())\n",
        "if b < 45:\n",
        "    b+=15\n",
        "    a -= 1\n",
        "else:\n",
        "    b-=45\n",
        "\n",
        "if a == -1:\n",
        "    a=23\n",
        "print(a,b)"
      ],
      "execution_count": null,
      "outputs": []
    }
  ]
}