{
  "nbformat": 4,
  "nbformat_minor": 0,
  "metadata": {
    "colab": {
      "name": "IT_100_71~80.ipynb",
      "provenance": []
    },
    "kernelspec": {
      "name": "python3",
      "display_name": "Python 3"
    },
    "language_info": {
      "name": "python"
    }
  },
  "cells": [
    {
      "cell_type": "code",
      "metadata": {
        "id": "zk8uAJiHeMyk"
      },
      "source": [
        "#71\n",
        "graph = {\n",
        "        'A': set(['B', 'C', 'E']),\n",
        "        'B': set(['A']),\n",
        "        'C': set(['A']),\n",
        "        'D': set(['E', 'F']),\n",
        "        'E': set(['A', 'D']),\n",
        "        'F': set(['D'])\n",
        "}\n",
        "\n",
        "def dfs(graph, start):\n",
        "    visited = []\n",
        "    stack = [start]\n",
        "\n",
        "    while stack:\n",
        "        n = stack.pop()\n",
        "        if n not in visited:\n",
        "            visited.append(n)\n",
        "            stack += graph[n] - set(visited)\n",
        "    return visited\n",
        "\n",
        "print(dfs(graph, 'E'))"
      ],
      "execution_count": null,
      "outputs": []
    },
    {
      "cell_type": "markdown",
      "metadata": {
        "id": "Ob-0e7zFnX5i"
      },
      "source": [
        "pass 에 stack += graph[n] - set(visited)을 넣게 되면 stack에는 열린 노드들과 닫힌 노드들이 있는 리스트로 바뀌게 된다."
      ]
    },
    {
      "cell_type": "code",
      "metadata": {
        "colab": {
          "base_uri": "https://localhost:8080/"
        },
        "id": "RU4Bck4Seq5Y",
        "outputId": "2de6158d-ead2-44ac-e390-10620c520a9a"
      },
      "source": [
        "#72\n",
        "graph = {'E': set(['D', 'A']),\n",
        "         'F': set(['D']),\n",
        "         'A': set(['E', 'C', 'B']),\n",
        "         'B': set(['A']),\n",
        "         'C': set(['A']),\n",
        "         'D': set(['E','F'])}\n",
        "\n",
        "def bfs(graph, start):\n",
        "    visited = []\n",
        "    queue = [start]\n",
        "\n",
        "    while queue:\n",
        "        n = queue.pop(0)\n",
        "        if n not in visited:\n",
        "            visited.append(n)\n",
        "            queue += graph[n] - set(visited)\n",
        "    return visited\n"
      ],
      "execution_count": null,
      "outputs": [
        {
          "output_type": "stream",
          "name": "stdout",
          "text": [
            "<class 'dict'>\n"
          ]
        }
      ]
    },
    {
      "cell_type": "code",
      "metadata": {
        "id": "zTBK-QHSewMV"
      },
      "source": [
        "graph = {'A': set(['B', 'C']),\n",
        "         'B': set(['A', 'D', 'E']),\n",
        "         'C': set(['A', 'F']),\n",
        "         'D': set(['B']),\n",
        "         'E': set(['B', 'F']),\n",
        "         'F': set(['C', 'E'])}\n",
        "def dfs_(graph,s,e):\n",
        "    \n",
        "    "
      ],
      "execution_count": null,
      "outputs": []
    },
    {
      "cell_type": "code",
      "metadata": {
        "colab": {
          "base_uri": "https://localhost:8080/"
        },
        "id": "fYlcI75PhwvY",
        "outputId": "eab794f8-4d41-49bd-a601-e40dbbc6b939"
      },
      "source": [
        "#75 \n",
        "n = input()\n",
        "list_ = []\n",
        "count = 0\n",
        "for i in range(int(n)+1):\n",
        "    list_ = list(str(i))\n",
        "    cl_count = 0\n",
        "    for j in range(len(list_)):\n",
        "        if int(list_[j]) == 3 or int(list_[j]) == 6 or int(list_[j]) ==9:\n",
        "            cl_count += 1\n",
        "            if cl_count == len(list_):\n",
        "                count += 1\n",
        "print(count)\n",
        "    \n",
        "    \n",
        "    "
      ],
      "execution_count": null,
      "outputs": [
        {
          "output_type": "stream",
          "name": "stdout",
          "text": [
            "93\n",
            "10\n"
          ]
        }
      ]
    },
    {
      "cell_type": "code",
      "metadata": {
        "colab": {
          "base_uri": "https://localhost:8080/",
          "height": 244
        },
        "id": "k1Jo8ig5ilpL",
        "outputId": "0a518f59-d270-4948-da3f-139ce4d98ed6"
      },
      "source": [
        "#76\n",
        "import numpy as np\n",
        "sq = 5\n",
        "range_ = 3\n",
        "root = [[1, 0, 0, 1, 0],\n",
        "       [0, 1, 0, 0, 1],\n",
        "       [0, 0, 0, 1, 0],\n",
        "       [0, 0, 0, 0, 0],\n",
        "       [0, 0, 1, 0, 0]]\n",
        "\n",
        "s = 0\n",
        "for i in range(sq - range_ + 1): # +1 왜해주는가\n",
        "    for j in range(range_):\n",
        "        if np.sum(root[i:range_ + i, j: range_ + j]) > s: # 왜안될까\n",
        "            s = np.sum(root[i:range_ + i, j:range_ +j])\n",
        "print(s)\n"
      ],
      "execution_count": null,
      "outputs": [
        {
          "output_type": "error",
          "ename": "TypeError",
          "evalue": "ignored",
          "traceback": [
            "\u001b[0;31m---------------------------------------------------------------------------\u001b[0m",
            "\u001b[0;31mTypeError\u001b[0m                                 Traceback (most recent call last)",
            "\u001b[0;32m<ipython-input-29-0cbea203fd2c>\u001b[0m in \u001b[0;36m<module>\u001b[0;34m()\u001b[0m\n\u001b[1;32m     12\u001b[0m \u001b[0;32mfor\u001b[0m \u001b[0mi\u001b[0m \u001b[0;32min\u001b[0m \u001b[0mrange\u001b[0m\u001b[0;34m(\u001b[0m\u001b[0msq\u001b[0m \u001b[0;34m-\u001b[0m \u001b[0mrange_\u001b[0m \u001b[0;34m+\u001b[0m \u001b[0;36m1\u001b[0m\u001b[0;34m)\u001b[0m\u001b[0;34m:\u001b[0m \u001b[0;31m# +1 왜해주는가\u001b[0m\u001b[0;34m\u001b[0m\u001b[0;34m\u001b[0m\u001b[0m\n\u001b[1;32m     13\u001b[0m     \u001b[0;32mfor\u001b[0m \u001b[0mj\u001b[0m \u001b[0;32min\u001b[0m \u001b[0mrange\u001b[0m\u001b[0;34m(\u001b[0m\u001b[0mrange_\u001b[0m\u001b[0;34m)\u001b[0m\u001b[0;34m:\u001b[0m\u001b[0;34m\u001b[0m\u001b[0;34m\u001b[0m\u001b[0m\n\u001b[0;32m---> 14\u001b[0;31m         \u001b[0;32mif\u001b[0m \u001b[0mnp\u001b[0m\u001b[0;34m.\u001b[0m\u001b[0msum\u001b[0m\u001b[0;34m(\u001b[0m\u001b[0mroot\u001b[0m\u001b[0;34m[\u001b[0m\u001b[0mi\u001b[0m\u001b[0;34m:\u001b[0m\u001b[0mrange_\u001b[0m \u001b[0;34m+\u001b[0m \u001b[0mi\u001b[0m\u001b[0;34m,\u001b[0m \u001b[0mj\u001b[0m\u001b[0;34m:\u001b[0m \u001b[0mrange_\u001b[0m \u001b[0;34m+\u001b[0m \u001b[0mj\u001b[0m\u001b[0;34m]\u001b[0m\u001b[0;34m)\u001b[0m \u001b[0;34m>\u001b[0m \u001b[0ms\u001b[0m\u001b[0;34m:\u001b[0m\u001b[0;34m\u001b[0m\u001b[0;34m\u001b[0m\u001b[0m\n\u001b[0m\u001b[1;32m     15\u001b[0m             \u001b[0ms\u001b[0m \u001b[0;34m=\u001b[0m \u001b[0mnp\u001b[0m\u001b[0;34m.\u001b[0m\u001b[0msum\u001b[0m\u001b[0;34m(\u001b[0m\u001b[0mroot\u001b[0m\u001b[0;34m[\u001b[0m\u001b[0mi\u001b[0m\u001b[0;34m:\u001b[0m\u001b[0mrange_\u001b[0m \u001b[0;34m+\u001b[0m \u001b[0mi\u001b[0m\u001b[0;34m,\u001b[0m \u001b[0mj\u001b[0m\u001b[0;34m:\u001b[0m\u001b[0mrange_\u001b[0m \u001b[0;34m+\u001b[0m\u001b[0mj\u001b[0m\u001b[0;34m]\u001b[0m\u001b[0;34m)\u001b[0m\u001b[0;34m\u001b[0m\u001b[0;34m\u001b[0m\u001b[0m\n\u001b[1;32m     16\u001b[0m \u001b[0mprint\u001b[0m\u001b[0;34m(\u001b[0m\u001b[0ms\u001b[0m\u001b[0;34m)\u001b[0m\u001b[0;34m\u001b[0m\u001b[0;34m\u001b[0m\u001b[0m\n",
            "\u001b[0;31mTypeError\u001b[0m: list indices must be integers or slices, not tuple"
          ]
        }
      ]
    },
    {
      "cell_type": "code",
      "metadata": {
        "colab": {
          "base_uri": "https://localhost:8080/"
        },
        "id": "j78SLiPWp2e8",
        "outputId": "e64eb86e-bd24-487e-a14a-1f18acc50100"
      },
      "source": [
        "#77\n",
        "def sol(strings):\n",
        "    re_ = []\n",
        "    for i in range(1, len(strings) + 1):\n",
        "        for j in range(i):\n",
        "            re_.append(strings[j:j + len(strings) - i +1]) #진짜 이해 안된다\n",
        "    return re_\n",
        "def re_(n):\n",
        "    re_ = []\n",
        "    for i in range(1,len(n)+1):\n",
        "        for j in range(len(n)-i+1):\n",
        "            re_.append(n[j:j + i])\n",
        "    return re_\n",
        "st_1 = input()\n",
        "st_2 = input()\n",
        "\n",
        "list_1 = set(re_(st_1))\n",
        "list_2 = set(re_(st_2))\n",
        "\n",
        "inter = list_1.intersection(list_2)\n",
        "\n",
        "result = max(inter,key = len)\n",
        "print(len(result))\n",
        "            \n"
      ],
      "execution_count": null,
      "outputs": [
        {
          "output_type": "stream",
          "name": "stdout",
          "text": [
            "['ASDFGH', 'ASDFG', 'SDFGH', 'ASDF', 'SDFG', 'DFGH', 'ASD', 'SDF', 'DFG', 'FGH', 'AS', 'SD', 'DF', 'FG', 'GH', 'A', 'S', 'D', 'F', 'G', 'H']\n",
            "['A', 'S', 'D', 'F', 'G', 'H', 'AS', 'SD', 'DF', 'FG', 'GH', 'ASD', 'SDF', 'DFG', 'FGH', 'ASDF', 'SDFG', 'DFGH', 'ASDFG', 'SDFGH', 'ASDFGH']\n",
            "THISISSTRINGS\n",
            "THISIS\n",
            "6\n"
          ]
        }
      ]
    },
    {
      "cell_type": "code",
      "metadata": {
        "id": "VHp92AWE01zh",
        "colab": {
          "base_uri": "https://localhost:8080/"
        },
        "outputId": "a475590e-ab77-4929-e4b2-c27a16476536"
      },
      "source": [
        "#78\n",
        "def re(a,b):\n",
        "    i = 0\n",
        "    q = [i for i in range(1,a +1)]\n",
        "    while len(q) > 2:\n",
        "        if i > len(q) -1:\n",
        "            i -= len(q)\n",
        "        q.pop(i)\n",
        "        i += b\n",
        "        i -= 1\n",
        "    print(q)\n",
        "a,b= map(int,input().split(' '))\n",
        "re(a,b)\n",
        "\n",
        "\n",
        "        \n",
        "    \n",
        "     "
      ],
      "execution_count": null,
      "outputs": [
        {
          "output_type": "stream",
          "name": "stdout",
          "text": [
            "6 3\n",
            "[3, 5]\n"
          ]
        }
      ]
    },
    {
      "cell_type": "code",
      "metadata": {
        "colab": {
          "base_uri": "https://localhost:8080/"
        },
        "id": "yGgMWXMPOJzx",
        "outputId": "9a5430d5-b2df-46fa-f458-3c6f2e50dfa6"
      },
      "source": [
        "def sol(a,b):\n",
        "    n = a.copy()#copy 위치를 참조하는 것이 아니라 데이터 값을 복사해 오는 것\n",
        "    c = []\n",
        "    for i in range(b):\n",
        "        n.insert(0, n.pop())\n",
        "    for i,j in zip(a,n): #zip i와 j에게 a와n 값을 번갈아가며 넣어준다\n",
        "        c.append(abs(i - j))\n",
        "    index = c.index(min(c))\n",
        "    print(f\"index:{index}\")\n",
        "    print(f\"value:{a[index]},\")\n",
        "\n",
        "l = [10, 20, 25, 27, 34, 35, 39] \n",
        "n = int(input('순회 횟수는 :'))\n",
        "sol(l,n)"
      ],
      "execution_count": null,
      "outputs": [
        {
          "output_type": "stream",
          "name": "stdout",
          "text": [
            "순회 횟수는 :2\n",
            "[35, 39, 10, 20, 25, 27, 34]\n"
          ]
        }
      ]
    },
    {
      "cell_type": "code",
      "metadata": {
        "colab": {
          "base_uri": "https://localhost:8080/"
        },
        "id": "VNf8zTloZ37I",
        "outputId": "a7b2594e-0cee-436f-b14c-587c772ecb0d"
      },
      "source": [
        "l = [10, 20, 25, 27, 34, 35, 39] \n",
        "a = l.pop()\n",
        "print(a)"
      ],
      "execution_count": null,
      "outputs": [
        {
          "output_type": "stream",
          "name": "stdout",
          "text": [
            "39\n"
          ]
        }
      ]
    },
    {
      "cell_type": "code",
      "metadata": {
        "id": "25GQr7HjaQLw"
      },
      "source": [
        ""
      ],
      "execution_count": null,
      "outputs": []
    }
  ]
}