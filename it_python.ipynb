{
  "nbformat": 4,
  "nbformat_minor": 0,
  "metadata": {
    "colab": {
      "name": "it_python.ipynb",
      "provenance": [],
      "collapsed_sections": []
    },
    "kernelspec": {
      "name": "python3",
      "display_name": "Python 3"
    },
    "language_info": {
      "name": "python"
    }
  },
  "cells": [
    {
      "cell_type": "code",
      "metadata": {
        "colab": {
          "base_uri": "https://localhost:8080/"
        },
        "id": "YdaiZUbGw6xb",
        "outputId": "530bea64-0cae-41c5-b6a1-ff254c434d49"
      },
      "source": [
        "#51\n",
        "def mergesort(list_):\n",
        "    len_list = len(list_)\n",
        "    if len_list <= 1 :\n",
        "        return list_\n",
        "    mid_len_list = len_list // 2\n",
        "    list_1 = mergesort(list_[:mid_len_list])\n",
        "    list_2 = mergesort(list_[mid_len_list:])\n",
        "    re_list = []\n",
        "\n",
        "    while list_1 and list_2:\n",
        "        if list_1[0] < list_2[0]:\n",
        "            re_list.append(list_1.pop(0))\n",
        "        else:\n",
        "            re_list.append(list_2.pop(0))\n",
        "    while list_1:\n",
        "        re_list.append(list_1.pop(0))\n",
        "    while list_2:\n",
        "        re_list.append(list_2.pop(0))\n",
        "    print(re_list)\n",
        "    return re_list\n",
        "\n",
        "list_ = [180,145,165,45,170,175,173,171]\n",
        "print(mergesort(list_))"
      ],
      "execution_count": null,
      "outputs": [
        {
          "output_type": "stream",
          "name": "stdout",
          "text": [
            "[145, 180]\n",
            "[45, 165]\n",
            "[45, 145, 165, 180]\n",
            "[170, 175]\n",
            "[171, 173]\n",
            "[170, 171, 173, 175]\n",
            "[45, 145, 165, 170, 171, 173, 175, 180]\n",
            "[45, 145, 165, 170, 171, 173, 175, 180]\n"
          ]
        }
      ]
    },
    {
      "cell_type": "markdown",
      "metadata": {
        "id": "jBvjtJcbHsgN"
      },
      "source": [
        ""
      ]
    },
    {
      "cell_type": "code",
      "metadata": {
        "id": "xieARWduCVvg"
      },
      "source": [
        "처음 mergesort에 들어가게 되면 re_list = []코드 전까지 \n",
        "리스트가 깊이 우선 탐색느낌??(잘 이해한 거라면) \n",
        "[180, 145, 165,45] [170, 175, 173, 171] \n",
        "[180, 145] [ 165,45] \n",
        "[180] [145]\n",
        "이렇게 된 이후에 밑의 while 문으로 내려가서 \n",
        "re_list에 값이 [145,180]으로 저장된다.\n",
        "위의 설명 두 줄이 마지막 전의 노드의 list_1값으로 반환되고 같은 방법으로 \n",
        "list_2의 값이 밑의 while문이 돌면서 list_2값으로 반환된다. \n",
        "이와 같은 방법으로 계속 돌게 된다."
      ],
      "execution_count": null,
      "outputs": []
    },
    {
      "cell_type": "code",
      "metadata": {
        "colab": {
          "base_uri": "https://localhost:8080/"
        },
        "id": "dPS5ht9GHx-G",
        "outputId": "65bf944d-10ec-496a-e29b-0ff75edd2b99"
      },
      "source": [
        "#52\n",
        "def q_list(list_):\n",
        "    len_list = len(list_)\n",
        "    if len_list <= 1:\n",
        "        return list_\n",
        "    l_list = list_.pop(len_list//2)\n",
        "    list_1 = []\n",
        "    list_2 = []\n",
        "\n",
        "    for i in range(len_list -1):\n",
        "        if list_[i] < l_list:\n",
        "            list_1.append(list_[i])\n",
        "        else:\n",
        "            list_2.append(list_[i])\n",
        "    print(list_1,list_2)\n",
        "    return q_list(list_1) + [l_list] + q_list(list_2)\n",
        "list_ = [1,5,34,73,2,4,54,6,7]\n",
        "print(q_list(list_))\n"
      ],
      "execution_count": null,
      "outputs": [
        {
          "output_type": "stream",
          "name": "stdout",
          "text": [
            "[1] [5, 34, 73, 4, 54, 6, 7]\n",
            "[] [5, 34, 73, 54, 6, 7]\n",
            "[5, 34, 6, 7] [73]\n",
            "[5] [34, 7]\n",
            "[] [34]\n",
            "[1, 2, 4, 5, 6, 7, 34, 54, 73]\n"
          ]
        }
      ]
    },
    {
      "cell_type": "markdown",
      "metadata": {
        "id": "QxQE6yZOEw81"
      },
      "source": [
        "저 리스트를 예로 들면 처음에 리스트 중간에 있는 값인 2를 기준으로 2보다 큰 값은 list_2에 작은 값은 list_1에 저장한다.\n",
        "이것이 반복되어져서 결과값이 나오게 된다."
      ]
    },
    {
      "cell_type": "code",
      "metadata": {
        "colab": {
          "base_uri": "https://localhost:8080/"
        },
        "id": "nEs2nlExNqHE",
        "outputId": "452617c4-a1cc-400a-848f-83e0c8825a75"
      },
      "source": [
        "#53\n",
        "str_ = input()\n",
        "if str_.count('(') != str_.count(')'):\n",
        "    print(\"NO\")\n",
        "else:\n",
        "    for i in range(len(str_)):\n",
        "        count = 0\n",
        "        if str_[i] == '(':\n",
        "              count += 1\n",
        "        elif str_[i] == ')':\n",
        "            count -= 1\n",
        "            if count <= 0:\n",
        "                print(\"NO\")\n",
        "                break\n",
        "            \n",
        "    if count > 0 :\n",
        "        print(\"NO\")"
      ],
      "execution_count": null,
      "outputs": [
        {
          "output_type": "stream",
          "name": "stdout",
          "text": [
            "()(()))(\n",
            "NO\n"
          ]
        }
      ]
    },
    {
      "cell_type": "code",
      "metadata": {
        "colab": {
          "base_uri": "https://localhost:8080/"
        },
        "id": "hOk0xHQBQbtO",
        "outputId": "82cff49b-403a-47ff-d301-aae76e05630d"
      },
      "source": [
        "#54\n",
        "n = input().split()\n",
        "re = int(n[0])\n",
        "print(n, re)\n",
        "\n",
        "for i in range(len(n)):\n",
        "    if re != int(n[i]):\n",
        "        print(\"NO\")\n",
        "        print(re, n[i])\n",
        "        break\n",
        "    re +=1\n",
        "    if len(n)-1 == i:\n",
        "        print(\"YES\")\n",
        "\n",
        "\n",
        "\n",
        "    \n",
        "    \n"
      ],
      "execution_count": null,
      "outputs": [
        {
          "output_type": "stream",
          "name": "stdout",
          "text": [
            "1 2 3 4 5 6 7 8 9 10\n",
            "['1', '2', '3', '4', '5', '6', '7', '8', '9', '10'] 1\n",
            "YES\n"
          ]
        }
      ]
    },
    {
      "cell_type": "code",
      "metadata": {
        "id": "ja_uZYQjTMqY",
        "colab": {
          "base_uri": "https://localhost:8080/"
        },
        "outputId": "9b1be380-0384-4690-d035-6924d6c37cfe"
      },
      "source": [
        "#56\n",
        "nationWidth = {\n",
        "    'korea': 220877,\n",
        "    'Rusia': 17098242,\n",
        "    'China': 9596961,\n",
        "    'France': 543965,\n",
        "    'Japan': 377915,\n",
        "    'England':242900}\n",
        "sol = nationWidth['korea']\n",
        "del nationWidth['korea']\n",
        "\n",
        "def result(nationWidth,sol):\n",
        "  p = 0\n",
        "  m = 0\n",
        "  while True:\n",
        "      for i in nationWidth:\n",
        "          if nationWidth[i] == p + sol:\n",
        "             return i\n",
        "          if nationWidth[i] == m + sol:    \n",
        "             return i\n",
        "      p += 1\n",
        "      m -= 1\n",
        "print(result(nationWidth,sol)+ \" \" + str(abs(nationWidth[result(nationWidth,sol)] - sol)))"
      ],
      "execution_count": null,
      "outputs": [
        {
          "output_type": "stream",
          "name": "stdout",
          "text": [
            "England 22023\n"
          ]
        }
      ]
    },
    {
      "cell_type": "code",
      "metadata": {
        "id": "kCPaxr9K9n8P",
        "colab": {
          "base_uri": "https://localhost:8080/"
        },
        "outputId": "73c6fcd5-bedf-4117-ebcc-7f9c47371dfe"
      },
      "source": [
        "#57\n",
        "n = int(input())\n",
        "count_num = 0\n",
        "for i in range(n+1):\n",
        "    count_num += list(str(i)).count('1')\n",
        "print(count_num)\n",
        "\n"
      ],
      "execution_count": null,
      "outputs": [
        {
          "output_type": "stream",
          "name": "stdout",
          "text": [
            "13\n",
            "6\n"
          ]
        }
      ]
    },
    {
      "cell_type": "code",
      "metadata": {
        "colab": {
          "base_uri": "https://localhost:8080/"
        },
        "id": "s0xjf4VTMFc5",
        "outputId": "8824f729-292c-4326-e456-ea434064d8d2"
      },
      "source": [
        "#58 \n",
        "num = list(input())\n",
        "k = 3\n",
        "num.insert(len(num) - k,\",\")\n",
        "for i in range(1,(len(num)//3) - 1):\n",
        "    k += 4\n",
        "    num.insert(len(num) - k,\",\")\n",
        "num = \"\".join(num)\n",
        "print(num)\n"
      ],
      "execution_count": null,
      "outputs": [
        {
          "output_type": "stream",
          "name": "stdout",
          "text": [
            "1234567\n",
            "1234,567\n"
          ]
        }
      ]
    },
    {
      "cell_type": "code",
      "metadata": {
        "colab": {
          "base_uri": "https://localhost:8080/"
        },
        "id": "aJubDex2Rd8p",
        "outputId": "a2ee7780-d0f8-4326-bf6c-d9c75c9a5695"
      },
      "source": [
        "n = int(input())\n",
        "result = format(n,',')\n",
        "print(result)\n"
      ],
      "execution_count": null,
      "outputs": [
        {
          "output_type": "stream",
          "name": "stdout",
          "text": [
            "12353242231\n",
            "12,353,242,231\n"
          ]
        }
      ]
    },
    {
      "cell_type": "code",
      "metadata": {
        "id": "H8X7HG6fY6v1",
        "colab": {
          "base_uri": "https://localhost:8080/"
        },
        "outputId": "70be709b-4717-46e0-bf92-594d053e05b5"
      },
      "source": [
        "#59\n",
        "n = input()\n",
        "print(\"{0:=^50}\".format(n))"
      ],
      "execution_count": null,
      "outputs": [
        {
          "output_type": "stream",
          "name": "stdout",
          "text": [
            "apple\n",
            "======================apple=======================\n"
          ]
        }
      ]
    },
    {
      "cell_type": "code",
      "metadata": {
        "colab": {
          "base_uri": "https://localhost:8080/"
        },
        "id": "-t4lVJWqfrsn",
        "outputId": "0f3ebcd1-aff9-429c-e27e-49a79703ec70"
      },
      "source": [
        "#60\n",
        "student = ['강은지','김유정','박현서','최성훈','홍유진','박지호','권윤일','김채리','한지호','김진이','김민호','강채연']\n",
        "for i in range(len(student)):\n",
        "    print(\"번호:{0},이름: {1}\".format(i+1,student[i]))"
      ],
      "execution_count": null,
      "outputs": [
        {
          "output_type": "stream",
          "name": "stdout",
          "text": [
            "번호:1,이름:강은지\n",
            "번호:2,이름:김유정\n",
            "번호:3,이름:박현서\n",
            "번호:4,이름:최성훈\n",
            "번호:5,이름:홍유진\n",
            "번호:6,이름:박지호\n",
            "번호:7,이름:권윤일\n",
            "번호:8,이름:김채리\n",
            "번호:9,이름:한지호\n",
            "번호:10,이름:김진이\n",
            "번호:11,이름:김민호\n",
            "번호:12,이름:강채연\n"
          ]
        }
      ]
    },
    {
      "cell_type": "code",
      "metadata": {
        "id": "27RrdwAWhc7u",
        "colab": {
          "base_uri": "https://localhost:8080/"
        },
        "outputId": "008f0259-93af-4d40-ee00-36df54d4aea7"
      },
      "source": [
        "#61\n",
        "n = input()\n",
        "le_ = \"\"\n",
        "for i in n:\n",
        "    if i in le_:\n",
        "        continue\n",
        "    le_ += i\n",
        "    print(i + str(n.count(i)) , end = \"\")\n",
        "\n",
        "      \n",
        "    "
      ],
      "execution_count": null,
      "outputs": [
        {
          "output_type": "stream",
          "name": "stdout",
          "text": [
            "ssseeefff\n",
            "s3e3f3"
          ]
        }
      ]
    },
    {
      "cell_type": "code",
      "metadata": {
        "id": "ej3KcyZaJUsM",
        "colab": {
          "base_uri": "https://localhost:8080/"
        },
        "outputId": "0d969b64-8327-4a79-def9-55319804a0ef"
      },
      "source": [
        "#62\n",
        "def a(le):\n",
        "    return n.count(le)\n",
        "\n",
        "n = \"qqerrrrrrrrrttt\"\n",
        "print(a('q'),a('w'),a('e'),a('r'),a('w'),a('r'),a('q'),a('t'))\n",
        "\n",
        "\n"
      ],
      "execution_count": null,
      "outputs": [
        {
          "output_type": "stream",
          "name": "stdout",
          "text": [
            "2 0 1 9 0 9 2 3\n"
          ]
        }
      ]
    },
    {
      "cell_type": "code",
      "metadata": {
        "colab": {
          "base_uri": "https://localhost:8080/"
        },
        "id": "qvEnzgt7wQRp",
        "outputId": "69598a60-f61f-4d7c-e826-d17639cf8298"
      },
      "source": [
        "#63\n",
        "sen = input().split()\n",
        "re_list = []\n",
        "for i in range(len(sen)):\n",
        "    re_list.append(sen[i][0])\n",
        "re_list = \"\".join(re_list)\n",
        "print(re_list)"
      ],
      "execution_count": null,
      "outputs": [
        {
          "output_type": "stream",
          "name": "stdout",
          "text": [
            "나는 배가 고프다\n",
            "나배고\n"
          ]
        }
      ]
    },
    {
      "cell_type": "code",
      "metadata": {
        "colab": {
          "base_uri": "https://localhost:8080/"
        },
        "id": "nCta73uXxxJO",
        "outputId": "366d676f-1b80-4a13-edb6-eb23b91a38de"
      },
      "source": [
        "#64\n",
        "def wei_cal(w):\n",
        "    n_7 = 0\n",
        "    n_3 = 0\n",
        "    if w//7 > 0:\n",
        "        n_7 = w//7\n",
        "        w = w%7\n",
        "    if w//3 > 0: \n",
        "        n_3 = w//3\n",
        "        w = w%3\n",
        "    if w == 0:\n",
        "        print(f\"7kg:{n_7},3kg:{n_3}\")\n",
        "    else:\n",
        "        print(-1)\n",
        "w = int(input())\n",
        "wei_cal(w)\n",
        "        "
      ],
      "execution_count": null,
      "outputs": [
        {
          "output_type": "stream",
          "name": "stdout",
          "text": [
            "24\n",
            "7kg:3,3kg:1\n"
          ]
        }
      ]
    },
    {
      "cell_type": "code",
      "metadata": {
        "colab": {
          "base_uri": "https://localhost:8080/"
        },
        "id": "I4OhJ5YTz5c7",
        "outputId": "61c5c280-bd2f-43b3-e08f-17f37e4f7e39"
      },
      "source": [
        "#65\n",
        "a = [1,2,3,4]\n",
        "b = ['a','b','c','d']\n",
        "re_list = []\n",
        "for i in range(len(a)):\n",
        "    re_list.append([a[i],b[i]])\n",
        "print(re_list)\n"
      ],
      "execution_count": null,
      "outputs": [
        {
          "output_type": "stream",
          "name": "stdout",
          "text": [
            "[[1, 'a'], [2, 'b'], [3, 'c'], [4, 'd']]\n"
          ]
        }
      ]
    },
    {
      "cell_type": "code",
      "metadata": {
        "colab": {
          "base_uri": "https://localhost:8080/"
        },
        "id": "QYw6oB251vo3",
        "outputId": "5dc2e41c-ee4e-4853-92ae-795227a30bcc"
      },
      "source": [
        "#66\n",
        "def re_put(rule,*k):\n",
        "    n = []\n",
        "    for i in range(len(k[0])):\n",
        "        n.append(k[0][i])\n",
        "    for i in range(len(n)):\n",
        "        index_n =[]\n",
        "        for j in rule:\n",
        "            if j in n[i]:\n",
        "                index_n.append(n[i].index(j))\n",
        "        sorted_index_n = sorted(index_n)\n",
        "        \n",
        "        if sorted_index_n == index_n:\n",
        "            print(\"가능\",end = \" \")\n",
        "        else:\n",
        "            print(\"불가능\", end = \" \")\n",
        "top = input(\"탑을 입력해주세요:\").split()\n",
        "rule = input(\"규칙을 입력하세요:\")\n",
        "re_put(rule,top)\n",
        "    "
      ],
      "execution_count": null,
      "outputs": [
        {
          "output_type": "stream",
          "name": "stdout",
          "text": [
            "탑을 입력해주세요:VCDASEW ABTRE CDJUY\n",
            "규칙을 입력하세요:ABCD\n",
            "(['VCDASEW', 'ABTRE', 'CDJUY'],)\n",
            "불가능 가능 가능 "
          ]
        }
      ]
    },
    {
      "cell_type": "code",
      "metadata": {
        "colab": {
          "base_uri": "https://localhost:8080/"
        },
        "id": "tzDaffD2j2lR",
        "outputId": "f8ee11b8-1abf-48c0-ed57-090a8a68873f"
      },
      "source": [
        "#67\n",
        "def shake(n):\n",
        "    k = 2\n",
        "    m_shake = 0\n",
        "    while ((k * (k-1))/2) - n <= 0:\n",
        "        m_shake = n - ((k * (k-1))/2)\n",
        "        print(int(m_shake),[k+1])\n",
        "        k +=1\n",
        "n = int(input())\n",
        "shake(n)\n",
        "        "
      ],
      "execution_count": null,
      "outputs": [
        {
          "output_type": "stream",
          "name": "stdout",
          "text": [
            "59\n",
            "[3, 58]\n",
            "[4, 56]\n",
            "[5, 53]\n",
            "[6, 49]\n",
            "[7, 44]\n",
            "[8, 38]\n",
            "[9, 31]\n",
            "[10, 23]\n",
            "[11, 14]\n",
            "[12, 4]\n"
          ]
        }
      ]
    },
    {
      "cell_type": "code",
      "metadata": {
        "id": "IbH0eghkm_Cf",
        "colab": {
          "base_uri": "https://localhost:8080/"
        },
        "outputId": "e5a45a56-7d99-45d7-a545-83412ad7ebb4"
      },
      "source": [
        "def bus_cal(n_time,b_time):\n",
        "    re_list = []\n",
        "    h_re = 0\n",
        "    m_re = 0\n",
        "    n_list = []\n",
        "    n_list = n_time.split(':')\n",
        "    for i in range(len(b_time)):\n",
        "        b_m_list = b_time[i].split(':')\n",
        "        if int(b_m_list[0]) < int(n_list[0]):\n",
        "            re_list.append(\"지나갔습니다\")\n",
        "        else:\n",
        "            if int(b_m_list[0]) == int(n_list[0]) and int(b_m_list[1]) < int(n_list[1]):\n",
        "                re_list.append(\"지나갔습니다\")\n",
        "            else:\n",
        "                if int(b_m_list[1]) > int(n_list[1]):\n",
        "                    re_list.append(str(int(b_m_list[0]) - int(n_list[0])) + \"시간 \" + str(int(b_m_list[1]) - int(n_list[1])) + \"분\")\n",
        "                else:\n",
        "                    re_list.append(str(int(b_m_list[0]) - 1 - int(n_list[0])) + \"시간 \" + str(60 - int(n_list[1]) + int(b_m_list[1])) + \"분\")\n",
        "    print(re_list)\n",
        "b_time = [\"12:30\", \"13:20\", \"14:13\"]\n",
        "n_time = \"12:40\"\n",
        "bus_cal(n_time,b_time)\n",
        "    "
      ],
      "execution_count": 22,
      "outputs": [
        {
          "output_type": "stream",
          "name": "stdout",
          "text": [
            "['지나갔습니다', '0시간 40분', '1시간 33분']\n"
          ]
        }
      ]
    },
    {
      "cell_type": "code",
      "metadata": {
        "colab": {
          "base_uri": "https://localhost:8080/"
        },
        "id": "f5wrL1cdlynT",
        "outputId": "82015261-d43e-4946-b42d-02f5c8530124"
      },
      "source": [
        "def sol(n):\n",
        "    count = 0\n",
        "    for i in range(1,n):\n",
        "        if n % i == 0:\n",
        "            count += 1\n",
        "    if count >= 2:\n",
        "        return False\n",
        "    else:\n",
        "        return True \n",
        "n = int(input())\n",
        "for i in range(2,n-1):\n",
        "    if sol(i) and sol(n - i) == True:\n",
        "        print(str(i) + \"+\" + str(n - i))\n",
        "\n",
        "        \n",
        "    \n",
        "    "
      ],
      "execution_count": 16,
      "outputs": [
        {
          "output_type": "stream",
          "name": "stdout",
          "text": [
            "32\n",
            "3+29\n",
            "13+19\n",
            "19+13\n",
            "29+3\n"
          ]
        }
      ]
    },
    {
      "cell_type": "code",
      "metadata": {
        "colab": {
          "base_uri": "https://localhost:8080/"
        },
        "id": "RY_pH8bgwZjl",
        "outputId": "b35a378b-56df-44bc-f39f-b0a4353cac6f"
      },
      "source": [
        "a = ([1, 2],\n",
        "     [2, 4])\n",
        "b = ([1, 0],\n",
        "     [0, 3])\n",
        "re = []\n",
        "if len (a) != len(b[1]):\n",
        "    print(\"-1\")\n",
        "else:\n",
        "    for i in range(len(a)):\n",
        "        re.append([0]*len(b[0]))\n",
        "    for i in range(len(re)):\n",
        "        for m in range(len(re[i])):\n",
        "            for t in range(len(a[i])):\n",
        "                re[i][m] += a[i][t] * b[t][m]\n",
        "print(re)\n",
        "      \n",
        "            \n",
        "            "
      ],
      "execution_count": 25,
      "outputs": [
        {
          "output_type": "stream",
          "name": "stdout",
          "text": [
            "[[1, 6], [2, 12]]\n"
          ]
        }
      ]
    },
    {
      "cell_type": "code",
      "metadata": {
        "colab": {
          "base_uri": "https://localhost:8080/"
        },
        "id": "Lsg7RPGa5I_2",
        "outputId": "6d567b8e-046e-4b49-d97e-3b6c87fdbc79"
      },
      "source": [
        ""
      ],
      "execution_count": 23,
      "outputs": [
        {
          "output_type": "stream",
          "name": "stdout",
          "text": [
            "<class 'tuple'>\n"
          ]
        }
      ]
    },
    {
      "cell_type": "code",
      "metadata": {
        "id": "F3tt7e2n5Mn5"
      },
      "source": [
        ""
      ],
      "execution_count": null,
      "outputs": []
    }
  ]
}