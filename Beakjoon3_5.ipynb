{
  "nbformat": 4,
  "nbformat_minor": 0,
  "metadata": {
    "colab": {
      "name": "Beakjoon3~5.ipynb",
      "provenance": []
    },
    "kernelspec": {
      "name": "python3",
      "display_name": "Python 3"
    },
    "language_info": {
      "name": "python"
    }
  },
  "cells": [
    {
      "cell_type": "code",
      "metadata": {
        "colab": {
          "base_uri": "https://localhost:8080/"
        },
        "id": "ZUPZSdZPuAPK",
        "outputId": "8697a4dc-018a-4257-f747-d62413a49a4f"
      },
      "source": [
        "#2739\n",
        "n = int(input())\n",
        "for i in range(1,10):\n",
        "    print(f\"{n} * {i} = {n*i}\")"
      ],
      "execution_count": null,
      "outputs": [
        {
          "output_type": "stream",
          "name": "stdout",
          "text": [
            "2\n",
            "2 * 1 = 2\n",
            "2 * 2 = 4\n",
            "2 * 3 = 6\n",
            "2 * 4 = 8\n",
            "2 * 5 = 10\n",
            "2 * 6 = 12\n",
            "2 * 7 = 14\n",
            "2 * 8 = 16\n",
            "2 * 9 = 18\n"
          ]
        }
      ]
    },
    {
      "cell_type": "code",
      "metadata": {
        "colab": {
          "base_uri": "https://localhost:8080/"
        },
        "id": "A_VVlNiOudm2",
        "outputId": "4fedf108-827e-4f76-a835-e7f95b7278fa"
      },
      "source": [
        "#10950\n",
        "list_ = []\n",
        "n = int(input())\n",
        "for i in range(n):\n",
        "    m_k = input().split()\n",
        "    list_.append(m_k)\n",
        "for i in list_:\n",
        "    print(f\"{int(i[0]) + int(i[1])} \")\n",
        "    \n",
        "    "
      ],
      "execution_count": null,
      "outputs": [
        {
          "output_type": "stream",
          "name": "stdout",
          "text": [
            "2\n",
            "1 2\n",
            "3 2\n",
            "3 \n",
            "5 \n"
          ]
        }
      ]
    },
    {
      "cell_type": "code",
      "metadata": {
        "colab": {
          "base_uri": "https://localhost:8080/"
        },
        "id": "QAdtigM3weDx",
        "outputId": "2c06c375-2e6b-4ba9-8cdd-0bedd23711ef"
      },
      "source": [
        "# 8393\n",
        "n = int(input())\n",
        "sum_ = 0\n",
        "for i in range(n+1):\n",
        "    sum_ += i\n",
        "print(sum_)"
      ],
      "execution_count": null,
      "outputs": [
        {
          "output_type": "stream",
          "name": "stdout",
          "text": [
            "3\n",
            "6\n"
          ]
        }
      ]
    },
    {
      "cell_type": "code",
      "metadata": {
        "colab": {
          "base_uri": "https://localhost:8080/",
          "height": 208
        },
        "id": "zhxoPYqxxCxh",
        "outputId": "5602f3b8-e070-49bd-8c71-282a046579ab"
      },
      "source": [
        "#15552\n",
        "import sys\n",
        "list_ = []\n",
        "n = int(sys.stdin.readline())\n",
        "for i in range(n):\n",
        "    m_k = sys.stdin.readline().split()\n",
        "    list_.append(m_k)\n",
        "for i in list_:\n",
        "    print(f\"{int(i[0]) + int(i[1])} \")"
      ],
      "execution_count": null,
      "outputs": [
        {
          "output_type": "error",
          "ename": "ValueError",
          "evalue": "ignored",
          "traceback": [
            "\u001b[0;31m---------------------------------------------------------------------------\u001b[0m",
            "\u001b[0;31mValueError\u001b[0m                                Traceback (most recent call last)",
            "\u001b[0;32m<ipython-input-3-f57776550e52>\u001b[0m in \u001b[0;36m<module>\u001b[0;34m()\u001b[0m\n\u001b[1;32m      1\u001b[0m \u001b[0;32mimport\u001b[0m \u001b[0msys\u001b[0m\u001b[0;34m\u001b[0m\u001b[0;34m\u001b[0m\u001b[0m\n\u001b[0;32m----> 2\u001b[0;31m \u001b[0ma\u001b[0m \u001b[0;34m=\u001b[0m \u001b[0mint\u001b[0m\u001b[0;34m(\u001b[0m\u001b[0msys\u001b[0m\u001b[0;34m.\u001b[0m\u001b[0mstdin\u001b[0m\u001b[0;34m.\u001b[0m\u001b[0mreadline\u001b[0m\u001b[0;34m(\u001b[0m\u001b[0;34m)\u001b[0m\u001b[0;34m)\u001b[0m\u001b[0;34m\u001b[0m\u001b[0;34m\u001b[0m\u001b[0m\n\u001b[0m\u001b[1;32m      3\u001b[0m \u001b[0mprint\u001b[0m\u001b[0;34m(\u001b[0m\u001b[0ma\u001b[0m\u001b[0;34m)\u001b[0m\u001b[0;34m\u001b[0m\u001b[0;34m\u001b[0m\u001b[0m\n",
            "\u001b[0;31mValueError\u001b[0m: invalid literal for int() with base 10: ''"
          ]
        }
      ]
    },
    {
      "cell_type": "code",
      "metadata": {
        "colab": {
          "base_uri": "https://localhost:8080/"
        },
        "id": "oKh_Nu620Mjw",
        "outputId": "ba68d669-2f84-4c0a-e4b0-8e541c9434d7"
      },
      "source": [
        "#2741\n",
        "n = int(input())\n",
        "for i in range(1,n+1):\n",
        "    print(i)"
      ],
      "execution_count": null,
      "outputs": [
        {
          "output_type": "stream",
          "name": "stdout",
          "text": [
            "7\n",
            "1\n",
            "2\n",
            "3\n",
            "4\n",
            "5\n",
            "6\n",
            "7\n"
          ]
        }
      ]
    },
    {
      "cell_type": "code",
      "metadata": {
        "colab": {
          "base_uri": "https://localhost:8080/"
        },
        "id": "JDsAZXDHASzW",
        "outputId": "951f587a-c96d-47a8-fa7d-43c9062a761c"
      },
      "source": [
        "#2742\n",
        "n = int(input())\n",
        "for i in range(n,0,-1):\n",
        "    print(i)"
      ],
      "execution_count": null,
      "outputs": [
        {
          "output_type": "stream",
          "name": "stdout",
          "text": [
            "4\n",
            "4\n",
            "3\n",
            "2\n",
            "1\n"
          ]
        }
      ]
    },
    {
      "cell_type": "code",
      "metadata": {
        "colab": {
          "base_uri": "https://localhost:8080/"
        },
        "id": "igL_SXymAkYE",
        "outputId": "84ae8021-ea1c-446b-fd08-46b6b5dd3cbb"
      },
      "source": [
        "#11021\n",
        "list_ = []\n",
        "count = 0\n",
        "n = int(input())\n",
        "for i in range(n):\n",
        "    m_k = input().split()\n",
        "    list_.append(m_k)\n",
        "for i in list_:\n",
        "    count +=1\n",
        "    print(f\"Case #{count}: {int(i[0]) + int(i[1])} \")"
      ],
      "execution_count": null,
      "outputs": [
        {
          "output_type": "stream",
          "name": "stdout",
          "text": [
            "2\n",
            "2 1 \n",
            "2 1\n",
            "Case #1: 2 + 1 = 3 \n",
            "Case #2: 2 + 1 = 3 \n"
          ]
        }
      ]
    },
    {
      "cell_type": "code",
      "metadata": {
        "id": "XrG5dMx-BgHW"
      },
      "source": [
        "#11022\n",
        "list_ = []\n",
        "count = 0\n",
        "n = int(input())\n",
        "for i in range(n):\n",
        "    m_k = input().split()\n",
        "    list_.append(m_k)\n",
        "for i in list_:\n",
        "    count +=1\n",
        "    print(f\"Case #{count}: {i[0]} + {i[1]} = {int(i[0]) + int(i[1])} \")"
      ],
      "execution_count": null,
      "outputs": []
    },
    {
      "cell_type": "code",
      "metadata": {
        "colab": {
          "base_uri": "https://localhost:8080/"
        },
        "id": "W4AcRY2EC3rZ",
        "outputId": "a138d90f-f9e8-4b7d-fd86-d3373c919043"
      },
      "source": [
        "#2438\n",
        "n = int(input())\n",
        "for i in range(1,n+1):\n",
        "    print('*'* i)"
      ],
      "execution_count": null,
      "outputs": [
        {
          "output_type": "stream",
          "name": "stdout",
          "text": [
            "4\n",
            "*\n",
            "**\n",
            "***\n",
            "****\n"
          ]
        }
      ]
    },
    {
      "cell_type": "code",
      "metadata": {
        "colab": {
          "base_uri": "https://localhost:8080/"
        },
        "id": "PO1lk24QDE16",
        "outputId": "d8c2daaa-91e7-4bad-a1af-ad7e6bee0feb"
      },
      "source": [
        "#2439\n",
        "n = int(input())\n",
        "for i in range(1,n+1):\n",
        "    print(' '* (n - i)+'*'*i)"
      ],
      "execution_count": null,
      "outputs": [
        {
          "output_type": "stream",
          "name": "stdout",
          "text": [
            "4\n",
            "   *\n",
            "  **\n",
            " ***\n",
            "****\n"
          ]
        }
      ]
    },
    {
      "cell_type": "code",
      "metadata": {
        "colab": {
          "base_uri": "https://localhost:8080/"
        },
        "id": "DRmxCVj8EHZf",
        "outputId": "04a10279-0b7b-4d0d-d945-c0c8adf5d255"
      },
      "source": [
        "#10871\n",
        "a,b = map(int,input().split())\n",
        "list_ = input().split()\n",
        "for i in range(a):\n",
        "    if int(list_[i]) < (b):\n",
        "        print(list_[i],end = \" \")\n"
      ],
      "execution_count": null,
      "outputs": [
        {
          "output_type": "stream",
          "name": "stdout",
          "text": [
            "3 3\n",
            "10 2 1\n",
            "2 1 "
          ]
        }
      ]
    },
    {
      "cell_type": "code",
      "metadata": {
        "colab": {
          "base_uri": "https://localhost:8080/"
        },
        "id": "yFbnuYo8FTfq",
        "outputId": "4f3ed616-3d23-4b8a-cb30-5224febec113"
      },
      "source": [
        "#10952\n",
        "list_ = []\n",
        "count = 0\n",
        "a = \"\"\n",
        "b = \"\"\n",
        "while a != \"0\" and b != \"0\":\n",
        "    a,b = map(str,input().split())\n",
        "    list_.append(a+\" \" + b)\n",
        "while list_:\n",
        "    if int(list_[count][0]) + int(list_[count][2]) == 0:\n",
        "        break\n",
        "    print(int(list_[count][0]) + int(list_[count][2]))\n",
        "    count += 1\n"
      ],
      "execution_count": null,
      "outputs": [
        {
          "output_type": "stream",
          "name": "stdout",
          "text": [
            "1 3 \n",
            "2 5\n",
            "3 5\n",
            "1 7\n",
            "0 0\n",
            "4\n",
            "7\n",
            "8\n",
            "8\n",
            "0\n"
          ]
        }
      ]
    },
    {
      "cell_type": "code",
      "metadata": {
        "colab": {
          "base_uri": "https://localhost:8080/"
        },
        "id": "nNqVoVFFHQJX",
        "outputId": "c6728704-d4fb-4be1-fde2-c9b6b5f03752"
      },
      "source": [
        "#10951\n",
        "while 1 :\n",
        "    try:\n",
        "        a, b = map(int,input().split())\n",
        "        print(a + b)\n",
        "    except:\n",
        "        break"
      ],
      "execution_count": null,
      "outputs": [
        {
          "name": "stdout",
          "output_type": "stream",
          "text": [
            "1 2\n",
            "3\n",
            "3 4\n",
            "7\n",
            "2 5\n",
            "7\n",
            "dkf\n"
          ]
        }
      ]
    },
    {
      "cell_type": "code",
      "metadata": {
        "colab": {
          "base_uri": "https://localhost:8080/"
        },
        "id": "daNomnqWLEhg",
        "outputId": "2e27e5c8-121b-4d0e-90cf-11b0db32f518"
      },
      "source": [
        "#1110\n",
        "n = int(input())\n",
        "num = n\n",
        "cicle = 0\n",
        " \n",
        "while 1:\n",
        "    a = num//10\n",
        "    b = num %10\n",
        "    c = (a + b) % 10\n",
        "    num = (b * 10) + c\n",
        "    cicle +=1\n",
        "    if num == n:\n",
        "        break\n",
        "print(cicle)\n",
        "\n"
      ],
      "execution_count": null,
      "outputs": [
        {
          "output_type": "stream",
          "name": "stdout",
          "text": [
            "26\n",
            "4\n"
          ]
        }
      ]
    },
    {
      "cell_type": "code",
      "metadata": {
        "id": "7gnXb2b3M1-4",
        "colab": {
          "base_uri": "https://localhost:8080/"
        },
        "outputId": "2b960f2c-2257-422e-edbf-ea434cb9fea7"
      },
      "source": [
        "#10818\n",
        "n = int(input())\n",
        "num = list(map(int,input().split()))\n",
        "print(min(num),max(num))\n",
        "\n",
        "\n",
        "    "
      ],
      "execution_count": null,
      "outputs": [
        {
          "output_type": "stream",
          "name": "stdout",
          "text": [
            "4\n",
            "1 23 45 65\n",
            "[1, 23, 45, 65]\n",
            "1 65\n"
          ]
        }
      ]
    },
    {
      "cell_type": "code",
      "metadata": {
        "colab": {
          "base_uri": "https://localhost:8080/"
        },
        "id": "tUhE4UhDr81X",
        "outputId": "dd78e2e5-d491-415d-b5d6-20bbfb73fce5"
      },
      "source": [
        "#2562\n",
        "num = []\n",
        "for i in range(9):\n",
        "    num.append(int(input()))\n",
        "print(max(num))\n",
        "print(num.index(max(num))+ 1)"
      ],
      "execution_count": null,
      "outputs": [
        {
          "output_type": "stream",
          "name": "stdout",
          "text": [
            "2\n",
            "34\n",
            "2\n",
            "12\n",
            "43\n",
            "54\n",
            "32\n",
            "65\n",
            "43\n",
            "65\n",
            "8\n"
          ]
        }
      ]
    },
    {
      "cell_type": "code",
      "metadata": {
        "colab": {
          "base_uri": "https://localhost:8080/"
        },
        "id": "P4_fAP74znCR",
        "outputId": "1fd0d319-a250-48fd-e175-84227831da0b"
      },
      "source": [
        "#2577 틀림\n",
        "a,b,c = map(int,input().split())\n",
        "sum_ = str(a * b * c)\n",
        "sum_ = list(sum_)\n",
        "for i in range(9):\n",
        "    print(sum_.count(str(i)))\n",
        "\n"
      ],
      "execution_count": null,
      "outputs": [
        {
          "output_type": "stream",
          "name": "stdout",
          "text": [
            "432 123 423\n",
            "0\n",
            "0\n",
            "3\n",
            "0\n",
            "1\n",
            "1\n",
            "1\n",
            "1\n",
            "1\n"
          ]
        }
      ]
    },
    {
      "cell_type": "code",
      "metadata": {
        "colab": {
          "base_uri": "https://localhost:8080/"
        },
        "id": "CwsF9CDm1zzE",
        "outputId": "8f0360f0-43b3-45d9-d554-a55162816868"
      },
      "source": [
        "#3052\n",
        "num = []\n",
        "na = []\n",
        "m =[]\n",
        "for i in range(10):\n",
        "    num.append(int(input()))\n",
        "for i in range(10):\n",
        "    na.append(num[i] % 42)\n",
        "for i in range(10):\n",
        "    na.count(i)\n",
        "na = set(na)\n",
        "print(len(na))\n",
        "    \n",
        "    \n",
        "    "
      ],
      "execution_count": null,
      "outputs": [
        {
          "output_type": "stream",
          "name": "stdout",
          "text": [
            "39\n",
            "40\n",
            "41\n",
            "42\n",
            "43\n",
            "44\n",
            "82\n",
            "83\n",
            "84\n",
            "85\n",
            "6\n"
          ]
        }
      ]
    },
    {
      "cell_type": "code",
      "metadata": {
        "colab": {
          "base_uri": "https://localhost:8080/"
        },
        "id": "Lhr3GRe4773T",
        "outputId": "97f58168-bef9-477f-dca2-a90e7ffbffbb"
      },
      "source": [
        "#1546\n",
        "n = int(input())\n",
        "num = list(map(int,input().split()))\n",
        "num_list = []\n",
        "for i in range(n):\n",
        "    num_list.append(num[i]/max(num) * 100)\n",
        "\n",
        "print(sum(num_list) / n)\n"
      ],
      "execution_count": null,
      "outputs": [
        {
          "output_type": "stream",
          "name": "stdout",
          "text": [
            "3\n",
            "40 80 60\n",
            "[40, 80, 60]\n",
            "75.0\n"
          ]
        }
      ]
    },
    {
      "cell_type": "code",
      "metadata": {
        "colab": {
          "base_uri": "https://localhost:8080/"
        },
        "id": "iE_DSSdG83gb",
        "outputId": "2ca1808b-9824-467e-9329-45d57971c325"
      },
      "source": [
        "#8958\n",
        "n = int(input())\n",
        "for i in range(n):\n",
        "    OX = input()\n",
        "    c_score = 0\n",
        "    sum_score = 0\n",
        "    for j in OX:\n",
        "        if j == 'O':\n",
        "            c_score += 1\n",
        "        else:\n",
        "            c_score = 0\n",
        "        sum_score += c_score\n",
        "    print(sum_score)\n"
      ],
      "execution_count": null,
      "outputs": [
        {
          "output_type": "stream",
          "name": "stdout",
          "text": [
            "2\n",
            "OOXXOXXOOO\n",
            "10\n",
            "OOXXOOXXOO\n",
            "9\n"
          ]
        }
      ]
    },
    {
      "cell_type": "code",
      "metadata": {
        "colab": {
          "base_uri": "https://localhost:8080/"
        },
        "id": "0FJTrP-eDWa_",
        "outputId": "edd0eb1b-c768-4306-c58f-58afc9704956"
      },
      "source": [
        "#4344\n",
        "n = int(input())\n",
        "for i in range(n):\n",
        "    count = 0\n",
        "    num = list(map(int,input().split()))\n",
        "    f_num = num[0]\n",
        "    del num[0]\n",
        "    sum_ = sum(num)/f_num\n",
        "    for j in num:\n",
        "        if j > sum_:\n",
        "            count += 1\n",
        "    print(str(\"%.3f\" % (count / f_num * 100)) + '%')\n",
        "    \n",
        "        \n",
        "        "
      ],
      "execution_count": null,
      "outputs": [
        {
          "output_type": "stream",
          "name": "stdout",
          "text": [
            "2\n",
            "5 50 50 70 80 100\n",
            "40.000%\n",
            "7 100 95 90 80 70 60 50\n",
            "57.143%\n"
          ]
        }
      ]
    },
    {
      "cell_type": "code",
      "metadata": {
        "id": "qs1-Ep-kHRsu"
      },
      "source": [
        ""
      ],
      "execution_count": null,
      "outputs": []
    }
  ]
}