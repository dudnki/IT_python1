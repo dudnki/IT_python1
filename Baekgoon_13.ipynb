{
  "nbformat": 4,
  "nbformat_minor": 0,
  "metadata": {
    "colab": {
      "name": "Baekgoon_13.ipynb",
      "provenance": []
    },
    "kernelspec": {
      "name": "python3",
      "display_name": "Python 3"
    },
    "language_info": {
      "name": "python"
    }
  },
  "cells": [
    {
      "cell_type": "markdown",
      "source": [
        "###13-1\n",
        "\n",
        "자연수 N과 M이 주어졌을 때, 아래 조건을 만족하는 길이가 M인 수열을 모두 구하는 프로그램을 작성하시오.\n",
        "\n",
        "1부터 N까지 자연수 중에서 중복 없이 M개를 고른 수열"
      ],
      "metadata": {
        "id": "BeMy52ZOtlPz"
      }
    },
    {
      "cell_type": "code",
      "execution_count": null,
      "metadata": {
        "colab": {
          "base_uri": "https://localhost:8080/"
        },
        "id": "EQW3Duojthdp",
        "outputId": "32405894-b77e-447d-f751-d1e7fea76731"
      },
      "outputs": [
        {
          "output_type": "stream",
          "name": "stdout",
          "text": [
            "4 2\n",
            "1 2\n",
            "1 3\n",
            "1 4\n",
            "2 1\n",
            "2 3\n",
            "2 4\n",
            "3 1\n",
            "3 2\n",
            "3 4\n",
            "4 1\n",
            "4 2\n",
            "4 3\n"
          ]
        }
      ],
      "source": [
        "st, lenth = input().split()\n",
        "re = []\n",
        "def solve():\n",
        "    if len(re) == int(lenth):\n",
        "        print(' '.join(map(str, re)))\n",
        "        return \n",
        "    for i in range(1, int(st)+1):\n",
        "        if i not in re:\n",
        "            re.append(i)\n",
        "            solve()\n",
        "            re.pop()\n",
        "solve()\n",
        "    \n",
        "\n",
        "\n",
        "\n"
      ]
    },
    {
      "cell_type": "markdown",
      "source": [
        "###13-2\n",
        "\n",
        "자연수 N과 M이 주어졌을 때, 아래 조건을 만족하는 길이가 M인 수열을 모두 구하는 프로그램을 작성하시오.\n",
        "\n",
        "1부터 N까지 자연수 중에서 중복 없이 M개를 고른 수열\n",
        "고른 수열은 오름차순이어야 한다."
      ],
      "metadata": {
        "id": "UaDOn1OhAvZO"
      }
    },
    {
      "cell_type": "code",
      "source": [
        "st, lenth = map(int,input().split())\n",
        "re = []\n",
        "def solve():\n",
        "    if len(re) == lenth:\n",
        "        for k in range(lenth-1):\n",
        "            if re[k] > re[k+1]:\n",
        "              return\n",
        "        print(' '.join(map(str, re)))\n",
        "        return \n",
        "    for i in range(1, st+1):\n",
        "        if i not in re:\n",
        "            re.append(i)\n",
        "            solve()\n",
        "            re.pop()\n",
        "solve()"
      ],
      "metadata": {
        "colab": {
          "base_uri": "https://localhost:8080/"
        },
        "id": "KTkrmQeFzqE5",
        "outputId": "6a9bb403-92dd-400d-9c4f-e1b8d8fd0bb1"
      },
      "execution_count": null,
      "outputs": [
        {
          "output_type": "stream",
          "name": "stdout",
          "text": [
            "4 2\n",
            "1 2\n",
            "1 3\n",
            "1 4\n",
            "2 3\n",
            "2 4\n",
            "3 4\n"
          ]
        }
      ]
    },
    {
      "cell_type": "markdown",
      "source": [
        "###13-3\n",
        "\n",
        "자연수 N과 M이 주어졌을 때, 아래 조건을 만족하는 길이가 M인 수열을 모두 구하는 프로그램을 작성하시오.\n",
        "\n",
        "1부터 N까지 자연수 중에서 M개를 고른 수열\n",
        "같은 수를 여러 번 골라도 된다."
      ],
      "metadata": {
        "id": "shxoxmanCphN"
      }
    },
    {
      "cell_type": "code",
      "source": [
        "st, lenth = input().split()\n",
        "re = []\n",
        "def solve():\n",
        "    if len(re) == int(lenth):\n",
        "        print(' '.join(map(str, re)))\n",
        "        return \n",
        "    for i in range(1, int(st)+1):\n",
        "        re.append(i)\n",
        "        solve()\n",
        "        re.pop()\n",
        "solve()"
      ],
      "metadata": {
        "colab": {
          "base_uri": "https://localhost:8080/"
        },
        "id": "b4EJDmC4CQ0A",
        "outputId": "8a99ce88-fe6e-4f2d-fe49-2b91c65f7d97"
      },
      "execution_count": null,
      "outputs": [
        {
          "output_type": "stream",
          "name": "stdout",
          "text": [
            "4 2\n",
            "1 1\n",
            "1 2\n",
            "1 3\n",
            "1 4\n",
            "2 1\n",
            "2 2\n",
            "2 3\n",
            "2 4\n",
            "3 1\n",
            "3 2\n",
            "3 3\n",
            "3 4\n",
            "4 1\n",
            "4 2\n",
            "4 3\n",
            "4 4\n"
          ]
        }
      ]
    },
    {
      "cell_type": "markdown",
      "source": [
        "###13-4\n",
        "\n",
        "자연수 N과 M이 주어졌을 때, 아래 조건을 만족하는 길이가 M인 수열을 모두 구하는 프로그램을 작성하시오.\n",
        "\n",
        "1부터 N까지 자연수 중에서 M개를 고른 수열\n",
        "같은 수를 여러 번 골라도 된다.\n",
        "고른 수열은 비내림차순이어야 한다.\n",
        "길이가 K인 수열 A가 A1 ≤ A2 ≤ ... ≤ AK-1 ≤ AK를 만족하면, 비내림차순이라고 한다."
      ],
      "metadata": {
        "id": "IMmzBgtLDH85"
      }
    },
    {
      "cell_type": "code",
      "source": [
        "st, lenth = map(int,input().split())\n",
        "re = []\n",
        "def solve():\n",
        "    if len(re) == int(lenth):\n",
        "        for k in range(lenth-1):\n",
        "            if re[k] > re[k+1]:\n",
        "              return\n",
        "        print(' '.join(map(str, re)))\n",
        "        return \n",
        "    for i in range(1, int(st)+1):\n",
        "        re.append(i)\n",
        "        solve()\n",
        "        re.pop()\n",
        "solve()"
      ],
      "metadata": {
        "colab": {
          "base_uri": "https://localhost:8080/"
        },
        "id": "-d6tsCHkDHcQ",
        "outputId": "b2f9e36e-30b0-4826-f944-0a666c0e20b4"
      },
      "execution_count": null,
      "outputs": [
        {
          "output_type": "stream",
          "name": "stdout",
          "text": [
            "4 2\n",
            "1 1\n",
            "1 2\n",
            "1 3\n",
            "1 4\n",
            "2 2\n",
            "2 3\n",
            "2 4\n",
            "3 3\n",
            "3 4\n",
            "4 4\n"
          ]
        }
      ]
    },
    {
      "cell_type": "markdown",
      "source": [
        "##13-7\n",
        "\n",
        "N개의 수로 이루어진 수열 A1, A2, ..., AN이 주어진다. 또, 수와 수 사이에 끼워넣을 수 있는 N-1개의 연산자가 주어진다. 연산자는 덧셈(+), 뺄셈(-), 곱셈(×), 나눗셈(÷)으로만 이루어져 있다.\n",
        "\n",
        "우리는 수와 수 사이에 연산자를 하나씩 넣어서, 수식을 하나 만들 수 있다. 이때, 주어진 수의 순서를 바꾸면 안 된다.\n",
        "\n",
        "예를 들어, 6개의 수로 이루어진 수열이 1, 2, 3, 4, 5, 6이고, 주어진 연산자가 덧셈(+) 2개, 뺄셈(-) 1개, 곱셈(×) 1개, 나눗셈(÷) 1개인 경우에는 총 60가지의 식을 만들 수 있다. 예를 들어, 아래와 같은 식을 만들 수 있다.\n",
        "\n",
        "1+2+3-4×5÷6\n",
        "1÷2+3+4-5×6\n",
        "1+2÷3×4-5+6\n",
        "1÷2×3-4+5+6\n",
        "식의 계산은 연산자 우선 순위를 무시하고 앞에서부터 진행해야 한다. 또, 나눗셈은 정수 나눗셈으로 몫만 취한다. 음수를 양수로 나눌 때는 C++14의 기준을 따른다. 즉, 양수로 바꾼 뒤 몫을 취하고, 그 몫을 음수로 바꾼 것과 같다. 이에 따라서, 위의 식 4개의 결과를 계산해보면 아래와 같다.\n",
        "\n",
        "1+2+3-4×5÷6 = 1\n",
        "1÷2+3+4-5×6 = 12\n",
        "1+2÷3×4-5+6 = 5\n",
        "1÷2×3-4+5+6 = 7\n",
        "N개의 수와 N-1개의 연산자가 주어졌을 때, 만들 수 있는 식의 결과가 최대인 것과 최소인 것을 구하는 프로그램을 작성하시오."
      ],
      "metadata": {
        "id": "sKp-sPOqGZr_"
      }
    },
    {
      "cell_type": "code",
      "source": [
        ""
      ],
      "metadata": {
        "id": "6-ekK70tDaAh"
      },
      "execution_count": null,
      "outputs": []
    }
  ]
}